{
 "cells": [
  {
   "cell_type": "markdown",
   "metadata": {},
   "source": [
    "# Financial Planning with APIs and Simulations\n",
    "\n",
    "In this Challenge, you’ll create two financial analysis tools by using a single Jupyter notebook:\n",
    "\n",
    "Part 1: A financial planner for emergencies. The members will be able to use this tool to visualize their current savings. The members can then determine if they have enough reserves for an emergency fund.\n",
    "\n",
    "Part 2: A financial planner for retirement. This tool will forecast the performance of their retirement portfolio in 30 years. To do this, the tool will make an Alpaca API call via the Alpaca SDK to get historical price data for use in Monte Carlo simulations.\n",
    "\n",
    "You’ll use the information from the Monte Carlo simulation to answer questions about the portfolio in your Jupyter notebook.\n",
    "\n"
   ]
  },
  {
   "cell_type": "code",
   "execution_count": 1,
   "metadata": {},
   "outputs": [],
   "source": [
    "# Import the required libraries and dependencies\n",
    "import os\n",
    "import requests\n",
    "import json\n",
    "import pandas as pd\n",
    "from dotenv import load_dotenv\n",
    "import alpaca_trade_api as tradeapi\n",
    "from MCForecastTools import MCSimulation\n",
    "import numpy as np\n",
    "\n",
    "%matplotlib inline"
   ]
  },
  {
   "cell_type": "code",
   "execution_count": 2,
   "metadata": {},
   "outputs": [
    {
     "data": {
      "text/plain": [
       "True"
      ]
     },
     "execution_count": 2,
     "metadata": {},
     "output_type": "execute_result"
    }
   ],
   "source": [
    "# Load the environment variables from the .env file\n",
    "#by calling the load_dotenv function\n",
    "load_dotenv('api.env')"
   ]
  },
  {
   "cell_type": "markdown",
   "metadata": {},
   "source": [
    "## Part 1: Create a Financial Planner for Emergencies"
   ]
  },
  {
   "cell_type": "markdown",
   "metadata": {},
   "source": [
    "### Evaluate the Cryptocurrency Wallet by Using the Requests Library\n",
    "\n",
    "In this section, you’ll determine the current value of a member’s cryptocurrency wallet. You’ll collect the current prices for the Bitcoin and Ethereum cryptocurrencies by using the Python Requests library. For the prototype, you’ll assume that the member holds the 1.2 Bitcoins (BTC) and 5.3 Ethereum coins (ETH). To do all this, complete the following steps:\n",
    "\n",
    "1. Create a variable named `monthly_income`, and set its value to `12000`.\n",
    "\n",
    "2. Use the Requests library to get the current price (in US dollars) of Bitcoin (BTC) and Ethereum (ETH) by using the API endpoints that the starter code supplies.\n",
    "\n",
    "3. Navigate the JSON response object to access the current price of each coin, and store each in a variable.\n",
    "\n",
    "    > **Hint** Note the specific identifier for each cryptocurrency in the API JSON response. The Bitcoin identifier is `1`, and the Ethereum identifier is `1027`.\n",
    "\n",
    "4. Calculate the value, in US dollars, of the current amount of each cryptocurrency and of the entire cryptocurrency wallet.\n",
    "\n"
   ]
  },
  {
   "cell_type": "code",
   "execution_count": 3,
   "metadata": {},
   "outputs": [],
   "source": [
    "# The current number of coins for each cryptocurrency asset held in the portfolio.\n",
    "btc_coins = 1.2\n",
    "eth_coins = 5.3"
   ]
  },
  {
   "cell_type": "markdown",
   "metadata": {},
   "source": [
    "#### Step 1: Create a variable named `monthly_income`, and set its value to `12000`."
   ]
  },
  {
   "cell_type": "code",
   "execution_count": 4,
   "metadata": {},
   "outputs": [],
   "source": [
    "# The monthly amount for the member's household income\n",
    "# YOUR CODE HERE\n",
    "monthly_income = 12000"
   ]
  },
  {
   "cell_type": "markdown",
   "metadata": {},
   "source": [
    "#### Review the endpoint URLs for the API calls to Free Crypto API in order to get the current pricing information for both BTC and ETH."
   ]
  },
  {
   "cell_type": "code",
   "execution_count": 5,
   "metadata": {},
   "outputs": [],
   "source": [
    "# The Free Crypto API Call endpoint URLs for the held cryptocurrency assets\n",
    "btc_url = \"https://api.alternative.me/v2/ticker/Bitcoin/?convert=USD\"\n",
    "eth_url = \"https://api.alternative.me/v2/ticker/Ethereum/?convert=USD\""
   ]
  },
  {
   "cell_type": "markdown",
   "metadata": {},
   "source": [
    "#### Step 2. Use the Requests library to get the current price (in US dollars) of Bitcoin (BTC) and Ethereum (ETH) by using the API endpoints that the starter code supplied."
   ]
  },
  {
   "cell_type": "code",
   "execution_count": 6,
   "metadata": {},
   "outputs": [
    {
     "name": "stdout",
     "output_type": "stream",
     "text": [
      "{\n",
      "  \"data\": {\n",
      "    \"1\": {\n",
      "      \"circulating_supply\": 18877181,\n",
      "      \"id\": 1,\n",
      "      \"last_updated\": 1637283882,\n",
      "      \"max_supply\": 21000000,\n",
      "      \"name\": \"Bitcoin\",\n",
      "      \"quotes\": {\n",
      "        \"USD\": {\n",
      "          \"market_cap\": 1087628778061,\n",
      "          \"percent_change_1h\": 0.839611756706021,\n",
      "          \"percent_change_24h\": -5.19529128891824,\n",
      "          \"percent_change_7d\": -11.4150401427899,\n",
      "          \"percentage_change_1h\": 0.839611756706021,\n",
      "          \"percentage_change_24h\": -5.19529128891824,\n",
      "          \"percentage_change_7d\": -11.4150401427899,\n",
      "          \"price\": 57585.0,\n",
      "          \"volume_24h\": 43048050612\n",
      "        }\n",
      "      },\n",
      "      \"rank\": 1,\n",
      "      \"symbol\": \"BTC\",\n",
      "      \"total_supply\": 18877181,\n",
      "      \"website_slug\": \"bitcoin\"\n",
      "    }\n",
      "  },\n",
      "  \"metadata\": {\n",
      "    \"error\": null,\n",
      "    \"num_cryptocurrencies\": 3105,\n",
      "    \"timestamp\": 1637283882\n",
      "  }\n",
      "}\n"
     ]
    }
   ],
   "source": [
    "# Using the Python requests library, make an API call to access the current price of BTC\n",
    "btc_response = requests.get(btc_url).json()\n",
    "\n",
    "# Use the json.dumps function to review the response data from the API call\n",
    "# Use the indent and sort_keys parameters to make the response object readable\n",
    "# YOUR CODE HERE\n",
    "print(json.dumps(btc_response, indent=2, sort_keys=True))"
   ]
  },
  {
   "cell_type": "code",
   "execution_count": 7,
   "metadata": {},
   "outputs": [
    {
     "name": "stdout",
     "output_type": "stream",
     "text": [
      "{\n",
      "  \"data\": {\n",
      "    \"1027\": {\n",
      "      \"circulating_supply\": 118398135,\n",
      "      \"id\": 1027,\n",
      "      \"last_updated\": 1637283675,\n",
      "      \"max_supply\": 0,\n",
      "      \"name\": \"Ethereum\",\n",
      "      \"quotes\": {\n",
      "        \"USD\": {\n",
      "          \"market_cap\": 485437668543,\n",
      "          \"percent_change_1h\": 1.89849543996137,\n",
      "          \"percent_change_24h\": -5.5774941352896,\n",
      "          \"percent_change_7d\": -13.3718496995206,\n",
      "          \"percentage_change_1h\": 1.89849543996137,\n",
      "          \"percentage_change_24h\": -5.5774941352896,\n",
      "          \"percentage_change_7d\": -13.3718496995206,\n",
      "          \"price\": 4100.04,\n",
      "          \"volume_24h\": 24833781805\n",
      "        }\n",
      "      },\n",
      "      \"rank\": 2,\n",
      "      \"symbol\": \"ETH\",\n",
      "      \"total_supply\": 118398135,\n",
      "      \"website_slug\": \"ethereum\"\n",
      "    }\n",
      "  },\n",
      "  \"metadata\": {\n",
      "    \"error\": null,\n",
      "    \"num_cryptocurrencies\": 3105,\n",
      "    \"timestamp\": 1637283675\n",
      "  }\n",
      "}\n"
     ]
    }
   ],
   "source": [
    "# Using the Python requests library, make an API call to access the current price ETH\n",
    "eth_response = requests.get(eth_url).json()\n",
    "\n",
    "# Use the json.dumps function to review the response data from the API call\n",
    "# Use the indent and sort_keys parameters to make the response object readable\n",
    "# YOUR CODE HERE\n",
    "print(json.dumps(eth_response, indent=2, sort_keys=True))"
   ]
  },
  {
   "cell_type": "markdown",
   "metadata": {},
   "source": [
    "#### Step 3: Navigate the JSON response object to access the current price of each coin, and store each in a variable."
   ]
  },
  {
   "cell_type": "code",
   "execution_count": 8,
   "metadata": {},
   "outputs": [
    {
     "name": "stdout",
     "output_type": "stream",
     "text": [
      "bitcoin price is 57585.0\n"
     ]
    }
   ],
   "source": [
    "# Navigate the BTC response object to access the current price of BTC\n",
    "btc_price = btc_response[\"data\"][\"1\"][\"quotes\"][\"USD\"][\"price\"]\n",
    "\n",
    "# Print the current price of BTC\n",
    "print(f\"bitcoin price is {btc_price}\")"
   ]
  },
  {
   "cell_type": "code",
   "execution_count": 9,
   "metadata": {},
   "outputs": [
    {
     "name": "stdout",
     "output_type": "stream",
     "text": [
      "Ethereum price is 4100.04\n"
     ]
    }
   ],
   "source": [
    "# Navigate the ETH response object to access the current price of ETH\n",
    "eth_price = eth_response[\"data\"][\"1027\"][\"quotes\"][\"USD\"][\"price\"]\n",
    "\n",
    "# Print the current price of ETH\n",
    "print(f'Ethereum price is {eth_price}')"
   ]
  },
  {
   "cell_type": "markdown",
   "metadata": {},
   "source": [
    "### Step 4: Calculate the value, in US dollars, of the current amount of each cryptocurrency and of the entire cryptocurrency wallet."
   ]
  },
  {
   "cell_type": "code",
   "execution_count": 10,
   "metadata": {},
   "outputs": [
    {
     "name": "stdout",
     "output_type": "stream",
     "text": [
      " bitcoin value is 69102.0\n"
     ]
    }
   ],
   "source": [
    "# Compute the current value of the BTC holding \n",
    "btc_value = btc_coins * btc_price\n",
    "\n",
    "# Print current value of your holding in BTC\n",
    "print(f' bitcoin value is {btc_value}')"
   ]
  },
  {
   "cell_type": "code",
   "execution_count": 11,
   "metadata": {},
   "outputs": [
    {
     "name": "stdout",
     "output_type": "stream",
     "text": [
      "the ethereum value is21730.212\n"
     ]
    }
   ],
   "source": [
    "# Compute the current value of the ETH holding \n",
    "eth_value = eth_coins * eth_price\n",
    "\n",
    "# Print current value of your holding in ETH\n",
    "print(f'the ethereum value is{eth_value}')\n"
   ]
  },
  {
   "cell_type": "code",
   "execution_count": 12,
   "metadata": {},
   "outputs": [
    {
     "name": "stdout",
     "output_type": "stream",
     "text": [
      " the total of the crypto wallet is 90832.212\n"
     ]
    }
   ],
   "source": [
    "# Compute the total value of the cryptocurrency wallet\n",
    "# Add the value of the BTC holding to the value of the ETH holding\n",
    "total_crypto_wallet = btc_value + eth_value\n",
    "\n",
    "# Print current cryptocurrency wallet balance\n",
    "print(f' the total of the crypto wallet is {total_crypto_wallet}')\n"
   ]
  },
  {
   "cell_type": "markdown",
   "metadata": {},
   "source": [
    "### Evaluate the Stock and Bond Holdings by Using the Alpaca SDK\n",
    "\n",
    "In this section, you’ll determine the current value of a member’s stock and bond holdings. You’ll make an API call to Alpaca via the Alpaca SDK to get the current closing prices of the SPDR S&P 500 ETF Trust (ticker: SPY) and of the iShares Core US Aggregate Bond ETF (ticker: AGG). For the prototype, assume that the member holds 110 shares of SPY, which represents the stock portion of their portfolio, and 200 shares of AGG, which represents the bond portion. To do all this, complete the following steps:\n",
    "\n",
    "1. In the `Starter_Code` folder, create an environment file (`.env`) to store the values of your Alpaca API key and Alpaca secret key.\n",
    "\n",
    "2. Set the variables for the Alpaca API and secret keys. Using the Alpaca SDK, create the Alpaca `tradeapi.REST` object. In this object, include the parameters for the Alpaca API key, the secret key, and the version number.\n",
    "\n",
    "3. Set the following parameters for the Alpaca API call:\n",
    "\n",
    "    - `tickers`: Use the tickers for the member’s stock and bond holdings.\n",
    "\n",
    "    - `timeframe`: Use a time frame of one day.\n",
    "\n",
    "    - `start_date` and `end_date`: Use the same date for these parameters, and format them with the date of the previous weekday (or `2020-08-07`). This is because you want the one closing price for the most-recent trading day.\n",
    "\n",
    "4. Get the current closing prices for `SPY` and `AGG` by using the Alpaca `get_barset` function. Format the response as a Pandas DataFrame by including the `df` property at the end of the `get_barset` function.\n",
    "\n",
    "5. Navigating the Alpaca response DataFrame, select the `SPY` and `AGG` closing prices, and store them as variables.\n",
    "\n",
    "6. Calculate the value, in US dollars, of the current amount of shares in each of the stock and bond portions of the portfolio, and print the results.\n"
   ]
  },
  {
   "cell_type": "markdown",
   "metadata": {},
   "source": [
    "#### Review the total number of shares held in both (SPY) and (AGG)."
   ]
  },
  {
   "cell_type": "code",
   "execution_count": 13,
   "metadata": {},
   "outputs": [],
   "source": [
    "# Current amount of shares held in both the stock (SPY) and bond (AGG) portion of the portfolio.\n",
    "spy_shares = 110\n",
    "agg_shares = 200\n"
   ]
  },
  {
   "cell_type": "markdown",
   "metadata": {},
   "source": [
    "#### Step 1: In the `Starter_Code` folder, create an environment file (`.env`) to store the values of your Alpaca API key and Alpaca secret key."
   ]
  },
  {
   "cell_type": "markdown",
   "metadata": {},
   "source": [
    "#### Step 2: Set the variables for the Alpaca API and secret keys. Using the Alpaca SDK, create the Alpaca `tradeapi.REST` object. In this object, include the parameters for the Alpaca API key, the secret key, and the version number."
   ]
  },
  {
   "cell_type": "code",
   "execution_count": 14,
   "metadata": {},
   "outputs": [],
   "source": [
    "# Set the variables for the Alpaca API and secret keys\n",
    "alpaca_api_key = os.getenv(\"ALPACA_API_KEY\")\n",
    "alpaca_secret_key = os.getenv(\"ALPACA_SECRET_KEY\")\n",
    "\n",
    "# Create the Alpaca tradeapi.REST object\n",
    "alpaca = tradeapi.REST(alpaca_api_key, alpaca_secret_key, api_version='v2')"
   ]
  },
  {
   "cell_type": "markdown",
   "metadata": {},
   "source": [
    "#### Step 3: Set the following parameters for the Alpaca API call:\n",
    "\n",
    "- `tickers`: Use the tickers for the member’s stock and bond holdings.\n",
    "\n",
    "- `timeframe`: Use a time frame of one day.\n",
    "\n",
    "- `start_date` and `end_date`: Use the same date for these parameters, and format them with the date of the previous weekday (or `2020-08-07`). This is because you want the one closing price for the most-recent trading day.\n"
   ]
  },
  {
   "cell_type": "code",
   "execution_count": 15,
   "metadata": {},
   "outputs": [],
   "source": [
    "# Set the tickers for both the bond and stock portion of the portfolio\n",
    "tickers =[\"SPY\", \"AGG\"]\n",
    "\n",
    "# Set timeframe to 1D \n",
    "timeframe = \"1D\"\n",
    "\n",
    "# Format current date as ISO format\n",
    "# Set both the start and end date at the date of your prior weekday \n",
    "# This will give you the closing price of the previous trading day\n",
    "# Alternatively you can use a start and end date of 2020-08-07\n",
    "start_date = pd.Timestamp(\"2021-11-17\", tz=\"America/New_York\").isoformat()\n",
    "end_date = pd.Timestamp(\"2021-11-17\", tz=\"America/New_York\").isoformat()\n"
   ]
  },
  {
   "cell_type": "markdown",
   "metadata": {},
   "source": [
    "#### Step 4: Get the current closing prices for `SPY` and `AGG` by using the Alpaca `get_barset` function. Format the response as a Pandas DataFrame by including the `df` property at the end of the `get_barset` function."
   ]
  },
  {
   "cell_type": "code",
   "execution_count": 16,
   "metadata": {},
   "outputs": [
    {
     "data": {
      "text/html": [
       "<div>\n",
       "<style scoped>\n",
       "    .dataframe tbody tr th:only-of-type {\n",
       "        vertical-align: middle;\n",
       "    }\n",
       "\n",
       "    .dataframe tbody tr th {\n",
       "        vertical-align: top;\n",
       "    }\n",
       "\n",
       "    .dataframe thead tr th {\n",
       "        text-align: left;\n",
       "    }\n",
       "\n",
       "    .dataframe thead tr:last-of-type th {\n",
       "        text-align: right;\n",
       "    }\n",
       "</style>\n",
       "<table border=\"1\" class=\"dataframe\">\n",
       "  <thead>\n",
       "    <tr>\n",
       "      <th></th>\n",
       "      <th colspan=\"5\" halign=\"left\">AGG</th>\n",
       "      <th colspan=\"5\" halign=\"left\">SPY</th>\n",
       "    </tr>\n",
       "    <tr>\n",
       "      <th></th>\n",
       "      <th>open</th>\n",
       "      <th>high</th>\n",
       "      <th>low</th>\n",
       "      <th>close</th>\n",
       "      <th>volume</th>\n",
       "      <th>open</th>\n",
       "      <th>high</th>\n",
       "      <th>low</th>\n",
       "      <th>close</th>\n",
       "      <th>volume</th>\n",
       "    </tr>\n",
       "    <tr>\n",
       "      <th>time</th>\n",
       "      <th></th>\n",
       "      <th></th>\n",
       "      <th></th>\n",
       "      <th></th>\n",
       "      <th></th>\n",
       "      <th></th>\n",
       "      <th></th>\n",
       "      <th></th>\n",
       "      <th></th>\n",
       "      <th></th>\n",
       "    </tr>\n",
       "  </thead>\n",
       "  <tbody>\n",
       "    <tr>\n",
       "      <th>2021-11-17 00:00:00-05:00</th>\n",
       "      <td>113.79</td>\n",
       "      <td>114.13</td>\n",
       "      <td>113.77</td>\n",
       "      <td>114.13</td>\n",
       "      <td>5513227</td>\n",
       "      <td>469</td>\n",
       "      <td>469.19</td>\n",
       "      <td>467.48</td>\n",
       "      <td>468.11</td>\n",
       "      <td>40088372</td>\n",
       "    </tr>\n",
       "  </tbody>\n",
       "</table>\n",
       "</div>"
      ],
      "text/plain": [
       "                              AGG                                   SPY  \\\n",
       "                             open    high     low   close   volume open   \n",
       "time                                                                      \n",
       "2021-11-17 00:00:00-05:00  113.79  114.13  113.77  114.13  5513227  469   \n",
       "\n",
       "                                                             \n",
       "                             high     low   close    volume  \n",
       "time                                                         \n",
       "2021-11-17 00:00:00-05:00  469.19  467.48  468.11  40088372  "
      ]
     },
     "execution_count": 16,
     "metadata": {},
     "output_type": "execute_result"
    }
   ],
   "source": [
    "# Use the Alpaca get_barset function to get current closing prices the portfolio\n",
    "# Be sure to set the `df` property after the function to format the response object as a DataFrame\n",
    "df_ticker = alpaca.get_barset(\n",
    "    tickers,\n",
    "    timeframe,\n",
    "    start=start_date,\n",
    "    end=end_date,\n",
    ").df\n",
    "# Review the first 5 rows of the Alpaca DataFrame\n",
    "\n",
    "df_ticker.head()"
   ]
  },
  {
   "cell_type": "markdown",
   "metadata": {},
   "source": [
    "#### Step 5: Navigating the Alpaca response DataFrame, select the `SPY` and `AGG` closing prices, and store them as variables."
   ]
  },
  {
   "cell_type": "code",
   "execution_count": 17,
   "metadata": {},
   "outputs": [
    {
     "name": "stdout",
     "output_type": "stream",
     "text": [
      "the closing price of AGG is 114.12\n"
     ]
    }
   ],
   "source": [
    "# Access the closing price for AGG from the Alpaca DataFrame\n",
    "# Converting the value to a floating point number\n",
    "agg_close_price = df_ticker[\"AGG\"][\"close\"][0].astype(np.float16)\n",
    "\n",
    "\n",
    "# Print the AGG closing price\n",
    "print(f'the closing price of AGG is {agg_close_price:,.2f}')\n"
   ]
  },
  {
   "cell_type": "code",
   "execution_count": 18,
   "metadata": {},
   "outputs": [
    {
     "name": "stdout",
     "output_type": "stream",
     "text": [
      "the closing price of SPY is 468.00\n"
     ]
    }
   ],
   "source": [
    "# Access the closing price for SPY from the Alpaca DataFrame\n",
    "# Converting the value to a floating point number\n",
    "spy_close_price = df_ticker[\"SPY\"]['close'][0].astype(np.float16)\n",
    "\n",
    "\n",
    "# Print the SPY closing price\n",
    "print(f'the closing price of SPY is {spy_close_price:,.2f}')\n"
   ]
  },
  {
   "cell_type": "markdown",
   "metadata": {},
   "source": [
    "#### Step 6: Calculate the value, in US dollars, of the current amount of shares in each of the stock and bond portions of the portfolio, and print the results."
   ]
  },
  {
   "cell_type": "code",
   "execution_count": 19,
   "metadata": {},
   "outputs": [
    {
     "name": "stdout",
     "output_type": "stream",
     "text": [
      "the value of AGG is 22,825.00\n"
     ]
    }
   ],
   "source": [
    "# Calculate the current value of the bond portion of the portfolio\n",
    "agg_value = agg_shares * agg_close_price\n",
    "\n",
    "# Print the current value of the bond portfolio\n",
    "print(f'the value of AGG is {agg_value:,.2f}')\n"
   ]
  },
  {
   "cell_type": "code",
   "execution_count": 20,
   "metadata": {},
   "outputs": [
    {
     "name": "stdout",
     "output_type": "stream",
     "text": [
      "the value of SPY is 51,480.00\n"
     ]
    }
   ],
   "source": [
    "# Calculate the current value of the stock portion of the portfolio\n",
    "spy_value = spy_shares * spy_close_price\n",
    "\n",
    "# Print the current value of the stock portfolio\n",
    "print(f'the value of SPY is {spy_value:,.2f}')"
   ]
  },
  {
   "cell_type": "code",
   "execution_count": 21,
   "metadata": {},
   "outputs": [
    {
     "name": "stdout",
     "output_type": "stream",
     "text": [
      "the total value of the stocks and bonds is 74,305.00\n"
     ]
    }
   ],
   "source": [
    "# Calculate the total value of the stock and bond portion of the portfolio\n",
    "total_stocks_bonds = agg_value + spy_value\n",
    "\n",
    "# Print the current balance of the stock and bond portion of the portfolio\n",
    "print(f'the total value of the stocks and bonds is {total_stocks_bonds:,.2f}')\n"
   ]
  },
  {
   "cell_type": "code",
   "execution_count": 22,
   "metadata": {},
   "outputs": [
    {
     "name": "stdout",
     "output_type": "stream",
     "text": [
      "the value of the Portfolio is 165,137.21\n"
     ]
    }
   ],
   "source": [
    "# Calculate the total value of the member's entire savings portfolio\n",
    "# Add the value of the cryptocurrency walled to the value of the total stocks and bonds\n",
    "total_portfolio = total_crypto_wallet + total_stocks_bonds\n",
    "\n",
    "# Print current cryptocurrency wallet balance\n",
    "print(f'the value of the Portfolio is {total_portfolio:,.2f}')"
   ]
  },
  {
   "cell_type": "markdown",
   "metadata": {},
   "source": [
    "### Evaluate the Emergency Fund\n",
    "\n",
    "In this section, you’ll use the valuations for the cryptocurrency wallet and for the stock and bond portions of the portfolio to determine if the credit union member has enough savings to build an emergency fund into their financial plan. To do this, complete the following steps:\n",
    "\n",
    "1. Create a Python list named `savings_data` that has two elements. The first element contains the total value of the cryptocurrency wallet. The second element contains the total value of the stock and bond portions of the portfolio.\n",
    "\n",
    "2. Use the `savings_data` list to create a Pandas DataFrame named `savings_df`, and then display this DataFrame. The function to create the DataFrame should take the following three parameters:\n",
    "\n",
    "    - `savings_data`: Use the list that you just created.\n",
    "\n",
    "    - `columns`: Set this parameter equal to a Python list with a single value called `amount`.\n",
    "\n",
    "    - `index`: Set this parameter equal to a Python list with the values of `crypto` and `stock/bond`.\n",
    "\n",
    "3. Use the `savings_df` DataFrame to plot a pie chart that visualizes the composition of the member’s portfolio. The y-axis of the pie chart uses `amount`. Be sure to add a title.\n",
    "\n",
    "4. Using Python, determine if the current portfolio has enough to create an emergency fund as part of the member’s financial plan. Ideally, an emergency fund should equal to three times the member’s monthly income. To do this, implement the following steps:\n",
    "\n",
    "    1. Create a variable named `emergency_fund_value`, and set it equal to three times the value of the member’s `monthly_income` of $12000. (You set this earlier in Part 1).\n",
    "\n",
    "    2. Create a series of three if statements to determine if the member’s total portfolio is large enough to fund the emergency portfolio:\n",
    "\n",
    "        1. If the total portfolio value is greater than the emergency fund value, display a message congratulating the member for having enough money in this fund.\n",
    "\n",
    "        2. Else if the total portfolio value is equal to the emergency fund value, display a message congratulating the member on reaching this important financial goal.\n",
    "\n",
    "        3. Else the total portfolio is less than the emergency fund value, so display a message showing how many dollars away the member is from reaching the goal. (Subtract the total portfolio value from the emergency fund value.)\n"
   ]
  },
  {
   "cell_type": "markdown",
   "metadata": {},
   "source": [
    "#### Step 1: Create a Python list named `savings_data` that has two elements. The first element contains the total value of the cryptocurrency wallet. The second element contains the total value of the stock and bond portions of the portfolio."
   ]
  },
  {
   "cell_type": "code",
   "execution_count": 23,
   "metadata": {},
   "outputs": [
    {
     "name": "stdout",
     "output_type": "stream",
     "text": [
      "the value of savings data are[90832.212, 74305.0]\n"
     ]
    }
   ],
   "source": [
    "# Consolidate financial assets data into a Python list\n",
    "savings_data = [total_crypto_wallet, total_stocks_bonds ]\n",
    "\n",
    "# Review the Python list savings_data\n",
    "\n",
    "print(f'the value of savings data are{savings_data}')\n",
    "    "
   ]
  },
  {
   "cell_type": "markdown",
   "metadata": {},
   "source": [
    "#### Step 2: Use the `savings_data` list to create a Pandas DataFrame named `savings_df`, and then display this DataFrame. The function to create the DataFrame should take the following three parameters:\n",
    "\n",
    "- `savings_data`: Use the list that you just created.\n",
    "\n",
    "- `columns`: Set this parameter equal to a Python list with a single value called `amount`.\n",
    "\n",
    "- `index`: Set this parameter equal to a Python list with the values of `crypto` and `stock/bond`.\n"
   ]
  },
  {
   "cell_type": "code",
   "execution_count": 24,
   "metadata": {},
   "outputs": [
    {
     "data": {
      "text/html": [
       "<div>\n",
       "<style scoped>\n",
       "    .dataframe tbody tr th:only-of-type {\n",
       "        vertical-align: middle;\n",
       "    }\n",
       "\n",
       "    .dataframe tbody tr th {\n",
       "        vertical-align: top;\n",
       "    }\n",
       "\n",
       "    .dataframe thead th {\n",
       "        text-align: right;\n",
       "    }\n",
       "</style>\n",
       "<table border=\"1\" class=\"dataframe\">\n",
       "  <thead>\n",
       "    <tr style=\"text-align: right;\">\n",
       "      <th></th>\n",
       "      <th>amount</th>\n",
       "    </tr>\n",
       "  </thead>\n",
       "  <tbody>\n",
       "    <tr>\n",
       "      <th>crypto</th>\n",
       "      <td>90832.212</td>\n",
       "    </tr>\n",
       "    <tr>\n",
       "      <th>stock/bond</th>\n",
       "      <td>74305.000</td>\n",
       "    </tr>\n",
       "  </tbody>\n",
       "</table>\n",
       "</div>"
      ],
      "text/plain": [
       "               amount\n",
       "crypto      90832.212\n",
       "stock/bond  74305.000"
      ]
     },
     "execution_count": 24,
     "metadata": {},
     "output_type": "execute_result"
    }
   ],
   "source": [
    "# Create a Pandas DataFrame called savings_df \n",
    "savings_df = pd.DataFrame(savings_data,columns=['amount'], index=['crypto','stock/bond'])\n",
    "\n",
    "\n",
    "# Display the savings_df DataFrame\n",
    "savings_df.head()"
   ]
  },
  {
   "cell_type": "markdown",
   "metadata": {},
   "source": [
    "#### Step 3: Use the `savings_df` DataFrame to plot a pie chart that visualizes the composition of the member’s portfolio. The y-axis of the pie chart uses `amount`. Be sure to add a title."
   ]
  },
  {
   "cell_type": "code",
   "execution_count": 25,
   "metadata": {},
   "outputs": [
    {
     "data": {
      "text/plain": [
       "<AxesSubplot:title={'center':'Saving dataframe'}, ylabel='amount'>"
      ]
     },
     "execution_count": 25,
     "metadata": {},
     "output_type": "execute_result"
    },
    {
     "data": {
      "image/png": "[encoded data removed]",
      "text/plain": [
       "<Figure size 432x288 with 1 Axes>"
      ]
     },
     "metadata": {},
     "output_type": "display_data"
    }
   ],
   "source": [
    "# Plot the total value of the member's portfolio (crypto and stock/bond) in a pie chart\n",
    "savings_df.plot.pie(title='Saving dataframe', y='amount')"
   ]
  },
  {
   "cell_type": "markdown",
   "metadata": {},
   "source": [
    "#### Step 4: Using Python, determine if the current portfolio has enough to create an emergency fund as part of the member’s financial plan. Ideally, an emergency fund should equal to three times the member’s monthly income. To do this, implement the following steps:\n",
    "\n",
    "Step 1. Create a variable named `emergency_fund_value`, and set it equal to three times the value of the member’s `monthly_income` of 12000. (You set this earlier in Part 1).\n",
    "\n",
    "Step 2. Create a series of three if statements to determine if the member’s total portfolio is large enough to fund the emergency portfolio:\n",
    "\n",
    "* If the total portfolio value is greater than the emergency fund value, display a message congratulating the member for having enough money in this fund.\n",
    "\n",
    "* Else if the total portfolio value is equal to the emergency fund value, display a message congratulating the member on reaching this important financial goal.\n",
    "\n",
    "* Else the total portfolio is less than the emergency fund value, so display a message showing how many dollars away the member is from reaching the goal. (Subtract the total portfolio value from the emergency fund value.)\n"
   ]
  },
  {
   "cell_type": "markdown",
   "metadata": {},
   "source": [
    "##### Step 4-1: Create a variable named `emergency_fund_value`, and set it equal to three times the value of the member’s `monthly_income` of 12000. (You set this earlier in Part 1)."
   ]
  },
  {
   "cell_type": "code",
   "execution_count": 26,
   "metadata": {},
   "outputs": [],
   "source": [
    "# Create a variable named emergency_fund_value\n",
    "emergency_fund_value = monthly_income * 3\n"
   ]
  },
  {
   "cell_type": "markdown",
   "metadata": {},
   "source": [
    "##### Step 4-2: Create a series of three if statements to determine if the member’s total portfolio is large enough to fund the emergency portfolio:\n",
    "\n",
    "* If the total portfolio value is greater than the emergency fund value, display a message congratulating the member for having enough money in this fund.\n",
    "\n",
    "* Else if the total portfolio value is equal to the emergency fund value, display a message congratulating the member on reaching this important financial goal.\n",
    "\n",
    "* Else the total portfolio is less than the emergency fund value, so display a message showing how many dollars away the member is from reaching the goal. (Subtract the total portfolio value from the emergency fund value.)"
   ]
  },
  {
   "cell_type": "code",
   "execution_count": 27,
   "metadata": {},
   "outputs": [
    {
     "name": "stdout",
     "output_type": "stream",
     "text": [
      "YAY! you are all set, money in the accounto $165,137.21 will be able to cover the emergency $36,000.00\n"
     ]
    }
   ],
   "source": [
    "# Evaluate the possibility of creating an emergency fund with 3 conditions:\n",
    "if (total_portfolio < emergency_fund_value):\n",
    "    print(f\"There is not enough fund in the account ${total_portfolio:,.2f} to cover the emergency ${emergency_fund_value:,.2f}\")\n",
    "elif (total_portfolio >= emergency_fund_value):\n",
    "    print(f\"YAY! you are all set, money in the accounto ${total_portfolio:,.2f} will be able to cover the emergency ${emergency_fund_value:,.2f}\")\n",
    "else:\n",
    "    printf(f\"the balance of the account is  ${ total_portfolio - emergency_fund_value :,.2f }\")\n"
   ]
  },
  {
   "cell_type": "markdown",
   "metadata": {},
   "source": [
    "## Part 2: Create a Financial Planner for Retirement"
   ]
  },
  {
   "cell_type": "markdown",
   "metadata": {},
   "source": [
    "### Create the Monte Carlo Simulation\n",
    "\n",
    "In this section, you’ll use the MCForecastTools library to create a Monte Carlo simulation for the member’s savings portfolio. To do this, complete the following steps:\n",
    "\n",
    "1. Make an API call via the Alpaca SDK to get 3 years of historical closing prices for a traditional 60/40 portfolio split: 60% stocks (SPY) and 40% bonds (AGG).\n",
    "\n",
    "2. Run a Monte Carlo simulation of 500 samples and 30 years for the 60/40 portfolio, and then plot the results.The following image shows the overlay line plot resulting from a simulation with these characteristics. However, because a random number generator is used to run each live Monte Carlo simulation, your image will differ slightly from this exact image:\n",
    "\n",
    "![A screenshot depicts the resulting plot.](Images/5-4-monte-carlo-line-plot.png)\n",
    "\n",
    "3. Plot the probability distribution of the Monte Carlo simulation. Plot the probability distribution of the Monte Carlo simulation. The following image shows the histogram plot resulting from a simulation with these characteristics. However, because a random number generator is used to run each live Monte Carlo simulation, your image will differ slightly from this exact image:\n",
    "\n",
    "![A screenshot depicts the histogram plot.](Images/5-4-monte-carlo-histogram.png)\n",
    "\n",
    "4. Generate the summary statistics for the Monte Carlo simulation.\n",
    "\n"
   ]
  },
  {
   "cell_type": "markdown",
   "metadata": {},
   "source": [
    "#### Step 1: Make an API call via the Alpaca SDK to get 3 years of historical closing prices for a traditional 60/40 portfolio split: 60% stocks (SPY) and 40% bonds (AGG)."
   ]
  },
  {
   "cell_type": "code",
   "execution_count": 28,
   "metadata": {},
   "outputs": [],
   "source": [
    "# Set start and end dates of 3 years back from your current date\n",
    "# Alternatively, you can use an end date of 2020-08-07 and work 3 years back from that date \n",
    "start_date_3y = pd.Timestamp(\"2018-11-17\", tz=\"America/New_York\").isoformat()\n",
    "end_date_3y = pd.Timestamp(\"2021-11-17\", tz=\"America/New_York\").isoformat()\n",
    "tickers =[\"SPY\", \"AGG\"]\n",
    "# Set number of rows to 1000 to retrieve the maximum amount of rows\n",
    "limit_rows=1000"
   ]
  },
  {
   "cell_type": "code",
   "execution_count": 29,
   "metadata": {},
   "outputs": [
    {
     "data": {
      "text/html": [
       "<div>\n",
       "<style scoped>\n",
       "    .dataframe tbody tr th:only-of-type {\n",
       "        vertical-align: middle;\n",
       "    }\n",
       "\n",
       "    .dataframe tbody tr th {\n",
       "        vertical-align: top;\n",
       "    }\n",
       "\n",
       "    .dataframe thead tr th {\n",
       "        text-align: left;\n",
       "    }\n",
       "\n",
       "    .dataframe thead tr:last-of-type th {\n",
       "        text-align: right;\n",
       "    }\n",
       "</style>\n",
       "<table border=\"1\" class=\"dataframe\">\n",
       "  <thead>\n",
       "    <tr>\n",
       "      <th></th>\n",
       "      <th colspan=\"5\" halign=\"left\">AGG</th>\n",
       "      <th colspan=\"5\" halign=\"left\">SPY</th>\n",
       "    </tr>\n",
       "    <tr>\n",
       "      <th></th>\n",
       "      <th>open</th>\n",
       "      <th>high</th>\n",
       "      <th>low</th>\n",
       "      <th>close</th>\n",
       "      <th>volume</th>\n",
       "      <th>open</th>\n",
       "      <th>high</th>\n",
       "      <th>low</th>\n",
       "      <th>close</th>\n",
       "      <th>volume</th>\n",
       "    </tr>\n",
       "    <tr>\n",
       "      <th>time</th>\n",
       "      <th></th>\n",
       "      <th></th>\n",
       "      <th></th>\n",
       "      <th></th>\n",
       "      <th></th>\n",
       "      <th></th>\n",
       "      <th></th>\n",
       "      <th></th>\n",
       "      <th></th>\n",
       "      <th></th>\n",
       "    </tr>\n",
       "  </thead>\n",
       "  <tbody>\n",
       "    <tr>\n",
       "      <th>2018-11-19 00:00:00-05:00</th>\n",
       "      <td>104.61</td>\n",
       "      <td>104.7299</td>\n",
       "      <td>104.61</td>\n",
       "      <td>104.66</td>\n",
       "      <td>4354256.0</td>\n",
       "      <td>273.05</td>\n",
       "      <td>273.6176</td>\n",
       "      <td>266.7480</td>\n",
       "      <td>269.08</td>\n",
       "      <td>86509084</td>\n",
       "    </tr>\n",
       "    <tr>\n",
       "      <th>2018-11-20 00:00:00-05:00</th>\n",
       "      <td>104.67</td>\n",
       "      <td>104.7200</td>\n",
       "      <td>104.61</td>\n",
       "      <td>104.61</td>\n",
       "      <td>3015946.0</td>\n",
       "      <td>265.36</td>\n",
       "      <td>269.1000</td>\n",
       "      <td>263.1500</td>\n",
       "      <td>264.18</td>\n",
       "      <td>121173305</td>\n",
       "    </tr>\n",
       "    <tr>\n",
       "      <th>2018-11-21 00:00:00-05:00</th>\n",
       "      <td>104.60</td>\n",
       "      <td>104.6900</td>\n",
       "      <td>104.58</td>\n",
       "      <td>104.68</td>\n",
       "      <td>5492705.0</td>\n",
       "      <td>265.86</td>\n",
       "      <td>267.1500</td>\n",
       "      <td>264.2527</td>\n",
       "      <td>265.08</td>\n",
       "      <td>64743156</td>\n",
       "    </tr>\n",
       "    <tr>\n",
       "      <th>2018-11-23 00:00:00-05:00</th>\n",
       "      <td>104.84</td>\n",
       "      <td>104.8400</td>\n",
       "      <td>104.65</td>\n",
       "      <td>104.65</td>\n",
       "      <td>1536835.0</td>\n",
       "      <td>263.18</td>\n",
       "      <td>265.0662</td>\n",
       "      <td>263.0700</td>\n",
       "      <td>263.34</td>\n",
       "      <td>36245484</td>\n",
       "    </tr>\n",
       "    <tr>\n",
       "      <th>2018-11-26 00:00:00-05:00</th>\n",
       "      <td>104.67</td>\n",
       "      <td>104.6700</td>\n",
       "      <td>104.59</td>\n",
       "      <td>104.63</td>\n",
       "      <td>3510989.0</td>\n",
       "      <td>265.78</td>\n",
       "      <td>268.2909</td>\n",
       "      <td>263.3652</td>\n",
       "      <td>267.46</td>\n",
       "      <td>67385154</td>\n",
       "    </tr>\n",
       "  </tbody>\n",
       "</table>\n",
       "</div>"
      ],
      "text/plain": [
       "                              AGG                                       \\\n",
       "                             open      high     low   close     volume   \n",
       "time                                                                     \n",
       "2018-11-19 00:00:00-05:00  104.61  104.7299  104.61  104.66  4354256.0   \n",
       "2018-11-20 00:00:00-05:00  104.67  104.7200  104.61  104.61  3015946.0   \n",
       "2018-11-21 00:00:00-05:00  104.60  104.6900  104.58  104.68  5492705.0   \n",
       "2018-11-23 00:00:00-05:00  104.84  104.8400  104.65  104.65  1536835.0   \n",
       "2018-11-26 00:00:00-05:00  104.67  104.6700  104.59  104.63  3510989.0   \n",
       "\n",
       "                              SPY                                         \n",
       "                             open      high       low   close     volume  \n",
       "time                                                                      \n",
       "2018-11-19 00:00:00-05:00  273.05  273.6176  266.7480  269.08   86509084  \n",
       "2018-11-20 00:00:00-05:00  265.36  269.1000  263.1500  264.18  121173305  \n",
       "2018-11-21 00:00:00-05:00  265.86  267.1500  264.2527  265.08   64743156  \n",
       "2018-11-23 00:00:00-05:00  263.18  265.0662  263.0700  263.34   36245484  \n",
       "2018-11-26 00:00:00-05:00  265.78  268.2909  263.3652  267.46   67385154  "
      ]
     },
     "metadata": {},
     "output_type": "display_data"
    },
    {
     "data": {
      "text/html": [
       "<div>\n",
       "<style scoped>\n",
       "    .dataframe tbody tr th:only-of-type {\n",
       "        vertical-align: middle;\n",
       "    }\n",
       "\n",
       "    .dataframe tbody tr th {\n",
       "        vertical-align: top;\n",
       "    }\n",
       "\n",
       "    .dataframe thead tr th {\n",
       "        text-align: left;\n",
       "    }\n",
       "\n",
       "    .dataframe thead tr:last-of-type th {\n",
       "        text-align: right;\n",
       "    }\n",
       "</style>\n",
       "<table border=\"1\" class=\"dataframe\">\n",
       "  <thead>\n",
       "    <tr>\n",
       "      <th></th>\n",
       "      <th colspan=\"5\" halign=\"left\">AGG</th>\n",
       "      <th colspan=\"5\" halign=\"left\">SPY</th>\n",
       "    </tr>\n",
       "    <tr>\n",
       "      <th></th>\n",
       "      <th>open</th>\n",
       "      <th>high</th>\n",
       "      <th>low</th>\n",
       "      <th>close</th>\n",
       "      <th>volume</th>\n",
       "      <th>open</th>\n",
       "      <th>high</th>\n",
       "      <th>low</th>\n",
       "      <th>close</th>\n",
       "      <th>volume</th>\n",
       "    </tr>\n",
       "    <tr>\n",
       "      <th>time</th>\n",
       "      <th></th>\n",
       "      <th></th>\n",
       "      <th></th>\n",
       "      <th></th>\n",
       "      <th></th>\n",
       "      <th></th>\n",
       "      <th></th>\n",
       "      <th></th>\n",
       "      <th></th>\n",
       "      <th></th>\n",
       "    </tr>\n",
       "  </thead>\n",
       "  <tbody>\n",
       "    <tr>\n",
       "      <th>2021-11-11 00:00:00-05:00</th>\n",
       "      <td>114.51</td>\n",
       "      <td>114.570</td>\n",
       "      <td>114.30</td>\n",
       "      <td>114.34</td>\n",
       "      <td>3105027.0</td>\n",
       "      <td>465.21</td>\n",
       "      <td>465.290</td>\n",
       "      <td>463.75</td>\n",
       "      <td>463.81</td>\n",
       "      <td>31757893</td>\n",
       "    </tr>\n",
       "    <tr>\n",
       "      <th>2021-11-12 00:00:00-05:00</th>\n",
       "      <td>114.50</td>\n",
       "      <td>114.585</td>\n",
       "      <td>114.26</td>\n",
       "      <td>114.33</td>\n",
       "      <td>4398727.0</td>\n",
       "      <td>465.12</td>\n",
       "      <td>467.860</td>\n",
       "      <td>464.11</td>\n",
       "      <td>467.26</td>\n",
       "      <td>44677612</td>\n",
       "    </tr>\n",
       "    <tr>\n",
       "      <th>2021-11-15 00:00:00-05:00</th>\n",
       "      <td>114.30</td>\n",
       "      <td>114.310</td>\n",
       "      <td>113.91</td>\n",
       "      <td>113.93</td>\n",
       "      <td>6219329.0</td>\n",
       "      <td>468.64</td>\n",
       "      <td>468.810</td>\n",
       "      <td>466.23</td>\n",
       "      <td>467.39</td>\n",
       "      <td>39813913</td>\n",
       "    </tr>\n",
       "    <tr>\n",
       "      <th>2021-11-16 00:00:00-05:00</th>\n",
       "      <td>113.92</td>\n",
       "      <td>114.110</td>\n",
       "      <td>113.84</td>\n",
       "      <td>113.87</td>\n",
       "      <td>5317284.0</td>\n",
       "      <td>467.16</td>\n",
       "      <td>470.485</td>\n",
       "      <td>467.07</td>\n",
       "      <td>469.24</td>\n",
       "      <td>41723421</td>\n",
       "    </tr>\n",
       "    <tr>\n",
       "      <th>2021-11-17 00:00:00-05:00</th>\n",
       "      <td>113.79</td>\n",
       "      <td>114.130</td>\n",
       "      <td>113.77</td>\n",
       "      <td>114.13</td>\n",
       "      <td>5513227.0</td>\n",
       "      <td>469.00</td>\n",
       "      <td>469.190</td>\n",
       "      <td>467.48</td>\n",
       "      <td>468.11</td>\n",
       "      <td>40088372</td>\n",
       "    </tr>\n",
       "  </tbody>\n",
       "</table>\n",
       "</div>"
      ],
      "text/plain": [
       "                              AGG                                         SPY  \\\n",
       "                             open     high     low   close     volume    open   \n",
       "time                                                                            \n",
       "2021-11-11 00:00:00-05:00  114.51  114.570  114.30  114.34  3105027.0  465.21   \n",
       "2021-11-12 00:00:00-05:00  114.50  114.585  114.26  114.33  4398727.0  465.12   \n",
       "2021-11-15 00:00:00-05:00  114.30  114.310  113.91  113.93  6219329.0  468.64   \n",
       "2021-11-16 00:00:00-05:00  113.92  114.110  113.84  113.87  5317284.0  467.16   \n",
       "2021-11-17 00:00:00-05:00  113.79  114.130  113.77  114.13  5513227.0  469.00   \n",
       "\n",
       "                                                              \n",
       "                              high     low   close    volume  \n",
       "time                                                          \n",
       "2021-11-11 00:00:00-05:00  465.290  463.75  463.81  31757893  \n",
       "2021-11-12 00:00:00-05:00  467.860  464.11  467.26  44677612  \n",
       "2021-11-15 00:00:00-05:00  468.810  466.23  467.39  39813913  \n",
       "2021-11-16 00:00:00-05:00  470.485  467.07  469.24  41723421  \n",
       "2021-11-17 00:00:00-05:00  469.190  467.48  468.11  40088372  "
      ]
     },
     "metadata": {},
     "output_type": "display_data"
    }
   ],
   "source": [
    "# Use the Alpaca get_barset function to make the API call to get the 3 years worth of pricing data\n",
    "# The tickers and timeframe parameters should have been set in Part 1 of this activity \n",
    "# The start and end dates should be updated with the information set above\n",
    "# Remember to add the df property to the end of the call so the response is returned as a DataFrame\n",
    "\n",
    "ticker_3y = alpaca.get_barset(\n",
    "    tickers,\n",
    "    timeframe,\n",
    "    start=start_date_3y,\n",
    "    end=end_date_3y,\n",
    "    limit=limit_rows\n",
    ").df\n",
    "\n",
    "# Display both the first and last five rows of the DataFrame\n",
    "display(ticker_3y.head())\n",
    "display(ticker_3y.tail())\n"
   ]
  },
  {
   "cell_type": "markdown",
   "metadata": {},
   "source": [
    "#### Step 2: Run a Monte Carlo simulation of 500 samples and 30 years for the 60/40 portfolio, and then plot the results."
   ]
  },
  {
   "cell_type": "code",
   "execution_count": 30,
   "metadata": {},
   "outputs": [
    {
     "data": {
      "text/html": [
       "<div>\n",
       "<style scoped>\n",
       "    .dataframe tbody tr th:only-of-type {\n",
       "        vertical-align: middle;\n",
       "    }\n",
       "\n",
       "    .dataframe tbody tr th {\n",
       "        vertical-align: top;\n",
       "    }\n",
       "\n",
       "    .dataframe thead tr th {\n",
       "        text-align: left;\n",
       "    }\n",
       "\n",
       "    .dataframe thead tr:last-of-type th {\n",
       "        text-align: right;\n",
       "    }\n",
       "</style>\n",
       "<table border=\"1\" class=\"dataframe\">\n",
       "  <thead>\n",
       "    <tr>\n",
       "      <th></th>\n",
       "      <th colspan=\"6\" halign=\"left\">AGG</th>\n",
       "      <th colspan=\"6\" halign=\"left\">SPY</th>\n",
       "    </tr>\n",
       "    <tr>\n",
       "      <th></th>\n",
       "      <th>open</th>\n",
       "      <th>high</th>\n",
       "      <th>low</th>\n",
       "      <th>close</th>\n",
       "      <th>volume</th>\n",
       "      <th>daily_return</th>\n",
       "      <th>open</th>\n",
       "      <th>high</th>\n",
       "      <th>low</th>\n",
       "      <th>close</th>\n",
       "      <th>volume</th>\n",
       "      <th>daily_return</th>\n",
       "    </tr>\n",
       "    <tr>\n",
       "      <th>time</th>\n",
       "      <th></th>\n",
       "      <th></th>\n",
       "      <th></th>\n",
       "      <th></th>\n",
       "      <th></th>\n",
       "      <th></th>\n",
       "      <th></th>\n",
       "      <th></th>\n",
       "      <th></th>\n",
       "      <th></th>\n",
       "      <th></th>\n",
       "      <th></th>\n",
       "    </tr>\n",
       "  </thead>\n",
       "  <tbody>\n",
       "    <tr>\n",
       "      <th>2018-11-19 00:00:00-05:00</th>\n",
       "      <td>104.61</td>\n",
       "      <td>104.7299</td>\n",
       "      <td>104.61</td>\n",
       "      <td>104.66</td>\n",
       "      <td>4354256.0</td>\n",
       "      <td>NaN</td>\n",
       "      <td>273.05</td>\n",
       "      <td>273.6176</td>\n",
       "      <td>266.7480</td>\n",
       "      <td>269.08</td>\n",
       "      <td>86509084</td>\n",
       "      <td>NaN</td>\n",
       "    </tr>\n",
       "    <tr>\n",
       "      <th>2018-11-20 00:00:00-05:00</th>\n",
       "      <td>104.67</td>\n",
       "      <td>104.7200</td>\n",
       "      <td>104.61</td>\n",
       "      <td>104.61</td>\n",
       "      <td>3015946.0</td>\n",
       "      <td>-0.000478</td>\n",
       "      <td>265.36</td>\n",
       "      <td>269.1000</td>\n",
       "      <td>263.1500</td>\n",
       "      <td>264.18</td>\n",
       "      <td>121173305</td>\n",
       "      <td>-0.018210</td>\n",
       "    </tr>\n",
       "    <tr>\n",
       "      <th>2018-11-21 00:00:00-05:00</th>\n",
       "      <td>104.60</td>\n",
       "      <td>104.6900</td>\n",
       "      <td>104.58</td>\n",
       "      <td>104.68</td>\n",
       "      <td>5492705.0</td>\n",
       "      <td>0.000669</td>\n",
       "      <td>265.86</td>\n",
       "      <td>267.1500</td>\n",
       "      <td>264.2527</td>\n",
       "      <td>265.08</td>\n",
       "      <td>64743156</td>\n",
       "      <td>0.003407</td>\n",
       "    </tr>\n",
       "    <tr>\n",
       "      <th>2018-11-23 00:00:00-05:00</th>\n",
       "      <td>104.84</td>\n",
       "      <td>104.8400</td>\n",
       "      <td>104.65</td>\n",
       "      <td>104.65</td>\n",
       "      <td>1536835.0</td>\n",
       "      <td>-0.000287</td>\n",
       "      <td>263.18</td>\n",
       "      <td>265.0662</td>\n",
       "      <td>263.0700</td>\n",
       "      <td>263.34</td>\n",
       "      <td>36245484</td>\n",
       "      <td>-0.006564</td>\n",
       "    </tr>\n",
       "    <tr>\n",
       "      <th>2018-11-26 00:00:00-05:00</th>\n",
       "      <td>104.67</td>\n",
       "      <td>104.6700</td>\n",
       "      <td>104.59</td>\n",
       "      <td>104.63</td>\n",
       "      <td>3510989.0</td>\n",
       "      <td>-0.000191</td>\n",
       "      <td>265.78</td>\n",
       "      <td>268.2909</td>\n",
       "      <td>263.3652</td>\n",
       "      <td>267.46</td>\n",
       "      <td>67385154</td>\n",
       "      <td>0.015645</td>\n",
       "    </tr>\n",
       "  </tbody>\n",
       "</table>\n",
       "</div>"
      ],
      "text/plain": [
       "                              AGG                                       \\\n",
       "                             open      high     low   close     volume   \n",
       "time                                                                     \n",
       "2018-11-19 00:00:00-05:00  104.61  104.7299  104.61  104.66  4354256.0   \n",
       "2018-11-20 00:00:00-05:00  104.67  104.7200  104.61  104.61  3015946.0   \n",
       "2018-11-21 00:00:00-05:00  104.60  104.6900  104.58  104.68  5492705.0   \n",
       "2018-11-23 00:00:00-05:00  104.84  104.8400  104.65  104.65  1536835.0   \n",
       "2018-11-26 00:00:00-05:00  104.67  104.6700  104.59  104.63  3510989.0   \n",
       "\n",
       "                                           SPY                              \\\n",
       "                          daily_return    open      high       low   close   \n",
       "time                                                                         \n",
       "2018-11-19 00:00:00-05:00          NaN  273.05  273.6176  266.7480  269.08   \n",
       "2018-11-20 00:00:00-05:00    -0.000478  265.36  269.1000  263.1500  264.18   \n",
       "2018-11-21 00:00:00-05:00     0.000669  265.86  267.1500  264.2527  265.08   \n",
       "2018-11-23 00:00:00-05:00    -0.000287  263.18  265.0662  263.0700  263.34   \n",
       "2018-11-26 00:00:00-05:00    -0.000191  265.78  268.2909  263.3652  267.46   \n",
       "\n",
       "                                                   \n",
       "                              volume daily_return  \n",
       "time                                               \n",
       "2018-11-19 00:00:00-05:00   86509084          NaN  \n",
       "2018-11-20 00:00:00-05:00  121173305    -0.018210  \n",
       "2018-11-21 00:00:00-05:00   64743156     0.003407  \n",
       "2018-11-23 00:00:00-05:00   36245484    -0.006564  \n",
       "2018-11-26 00:00:00-05:00   67385154     0.015645  "
      ]
     },
     "execution_count": 30,
     "metadata": {},
     "output_type": "execute_result"
    }
   ],
   "source": [
    "# Configure the Monte Carlo simulation to forecast 30 years cumulative returns\n",
    "# The weights should be split 40% to AGG and 60% to SPY.\n",
    "# Run 500 samples.\n",
    "thirty_years_simulation = MCSimulation(\n",
    "    portfolio_data=ticker_3y,\n",
    "    weights=[0.40, 0.60],\n",
    "    num_simulation=500,\n",
    "    num_trading_days=252*30,\n",
    ")\n",
    "\n",
    "# Review the simulation input data\n",
    "thirty_years_simulation.portfolio_data.head()\n"
   ]
  },
  {
   "cell_type": "code",
   "execution_count": 31,
   "metadata": {},
   "outputs": [
    {
     "name": "stdout",
     "output_type": "stream",
     "text": [
      "Running Monte Carlo simulation number 0.\n",
      "Running Monte Carlo simulation number 10.\n",
      "Running Monte Carlo simulation number 20.\n",
      "Running Monte Carlo simulation number 30.\n",
      "Running Monte Carlo simulation number 40.\n",
      "Running Monte Carlo simulation number 50.\n",
      "Running Monte Carlo simulation number 60.\n",
      "Running Monte Carlo simulation number 70.\n",
      "Running Monte Carlo simulation number 80.\n",
      "Running Monte Carlo simulation number 90.\n",
      "Running Monte Carlo simulation number 100.\n",
      "Running Monte Carlo simulation number 110.\n",
      "Running Monte Carlo simulation number 120.\n",
      "Running Monte Carlo simulation number 130.\n",
      "Running Monte Carlo simulation number 140.\n",
      "Running Monte Carlo simulation number 150.\n",
      "Running Monte Carlo simulation number 160.\n",
      "Running Monte Carlo simulation number 170.\n",
      "Running Monte Carlo simulation number 180.\n",
      "Running Monte Carlo simulation number 190.\n",
      "Running Monte Carlo simulation number 200.\n",
      "Running Monte Carlo simulation number 210.\n",
      "Running Monte Carlo simulation number 220.\n",
      "Running Monte Carlo simulation number 230.\n",
      "Running Monte Carlo simulation number 240.\n",
      "Running Monte Carlo simulation number 250.\n",
      "Running Monte Carlo simulation number 260.\n",
      "Running Monte Carlo simulation number 270.\n",
      "Running Monte Carlo simulation number 280.\n",
      "Running Monte Carlo simulation number 290.\n",
      "Running Monte Carlo simulation number 300.\n",
      "Running Monte Carlo simulation number 310.\n",
      "Running Monte Carlo simulation number 320.\n",
      "Running Monte Carlo simulation number 330.\n",
      "Running Monte Carlo simulation number 340.\n",
      "Running Monte Carlo simulation number 350.\n",
      "Running Monte Carlo simulation number 360.\n",
      "Running Monte Carlo simulation number 370.\n",
      "Running Monte Carlo simulation number 380.\n",
      "Running Monte Carlo simulation number 390.\n",
      "Running Monte Carlo simulation number 400.\n",
      "Running Monte Carlo simulation number 410.\n",
      "Running Monte Carlo simulation number 420.\n",
      "Running Monte Carlo simulation number 430.\n",
      "Running Monte Carlo simulation number 440.\n",
      "Running Monte Carlo simulation number 450.\n",
      "Running Monte Carlo simulation number 460.\n",
      "Running Monte Carlo simulation number 470.\n",
      "Running Monte Carlo simulation number 480.\n",
      "Running Monte Carlo simulation number 490.\n"
     ]
    },
    {
     "data": {
      "text/html": [
       "<div>\n",
       "<style scoped>\n",
       "    .dataframe tbody tr th:only-of-type {\n",
       "        vertical-align: middle;\n",
       "    }\n",
       "\n",
       "    .dataframe tbody tr th {\n",
       "        vertical-align: top;\n",
       "    }\n",
       "\n",
       "    .dataframe thead th {\n",
       "        text-align: right;\n",
       "    }\n",
       "</style>\n",
       "<table border=\"1\" class=\"dataframe\">\n",
       "  <thead>\n",
       "    <tr style=\"text-align: right;\">\n",
       "      <th></th>\n",
       "      <th>0</th>\n",
       "      <th>1</th>\n",
       "      <th>2</th>\n",
       "      <th>3</th>\n",
       "      <th>4</th>\n",
       "      <th>5</th>\n",
       "      <th>6</th>\n",
       "      <th>7</th>\n",
       "      <th>8</th>\n",
       "      <th>9</th>\n",
       "      <th>...</th>\n",
       "      <th>490</th>\n",
       "      <th>491</th>\n",
       "      <th>492</th>\n",
       "      <th>493</th>\n",
       "      <th>494</th>\n",
       "      <th>495</th>\n",
       "      <th>496</th>\n",
       "      <th>497</th>\n",
       "      <th>498</th>\n",
       "      <th>499</th>\n",
       "    </tr>\n",
       "  </thead>\n",
       "  <tbody>\n",
       "    <tr>\n",
       "      <th>0</th>\n",
       "      <td>1.000000</td>\n",
       "      <td>1.000000</td>\n",
       "      <td>1.000000</td>\n",
       "      <td>1.000000</td>\n",
       "      <td>1.000000</td>\n",
       "      <td>1.000000</td>\n",
       "      <td>1.000000</td>\n",
       "      <td>1.000000</td>\n",
       "      <td>1.000000</td>\n",
       "      <td>1.000000</td>\n",
       "      <td>...</td>\n",
       "      <td>1.000000</td>\n",
       "      <td>1.000000</td>\n",
       "      <td>1.000000</td>\n",
       "      <td>1.000000</td>\n",
       "      <td>1.000000</td>\n",
       "      <td>1.000000</td>\n",
       "      <td>1.000000</td>\n",
       "      <td>1.000000</td>\n",
       "      <td>1.000000</td>\n",
       "      <td>1.000000</td>\n",
       "    </tr>\n",
       "    <tr>\n",
       "      <th>1</th>\n",
       "      <td>0.998448</td>\n",
       "      <td>1.002732</td>\n",
       "      <td>0.990846</td>\n",
       "      <td>1.011723</td>\n",
       "      <td>1.013867</td>\n",
       "      <td>1.003183</td>\n",
       "      <td>0.998327</td>\n",
       "      <td>0.991061</td>\n",
       "      <td>0.987160</td>\n",
       "      <td>1.001480</td>\n",
       "      <td>...</td>\n",
       "      <td>0.995916</td>\n",
       "      <td>1.007205</td>\n",
       "      <td>0.991732</td>\n",
       "      <td>0.993080</td>\n",
       "      <td>1.005056</td>\n",
       "      <td>1.007959</td>\n",
       "      <td>1.011900</td>\n",
       "      <td>1.016404</td>\n",
       "      <td>1.016728</td>\n",
       "      <td>0.976052</td>\n",
       "    </tr>\n",
       "    <tr>\n",
       "      <th>2</th>\n",
       "      <td>0.995796</td>\n",
       "      <td>0.975797</td>\n",
       "      <td>0.999908</td>\n",
       "      <td>1.001301</td>\n",
       "      <td>1.015456</td>\n",
       "      <td>1.001793</td>\n",
       "      <td>1.016308</td>\n",
       "      <td>0.980868</td>\n",
       "      <td>0.986625</td>\n",
       "      <td>0.997637</td>\n",
       "      <td>...</td>\n",
       "      <td>1.010541</td>\n",
       "      <td>1.009247</td>\n",
       "      <td>0.995650</td>\n",
       "      <td>0.983206</td>\n",
       "      <td>0.988121</td>\n",
       "      <td>1.004444</td>\n",
       "      <td>1.019927</td>\n",
       "      <td>1.010592</td>\n",
       "      <td>1.016873</td>\n",
       "      <td>0.979768</td>\n",
       "    </tr>\n",
       "    <tr>\n",
       "      <th>3</th>\n",
       "      <td>0.991233</td>\n",
       "      <td>0.968856</td>\n",
       "      <td>0.996126</td>\n",
       "      <td>1.011876</td>\n",
       "      <td>1.015554</td>\n",
       "      <td>0.990172</td>\n",
       "      <td>1.013442</td>\n",
       "      <td>0.968715</td>\n",
       "      <td>1.005932</td>\n",
       "      <td>1.012613</td>\n",
       "      <td>...</td>\n",
       "      <td>0.999931</td>\n",
       "      <td>1.011654</td>\n",
       "      <td>0.985349</td>\n",
       "      <td>0.985227</td>\n",
       "      <td>0.997215</td>\n",
       "      <td>1.006509</td>\n",
       "      <td>1.026936</td>\n",
       "      <td>0.997941</td>\n",
       "      <td>1.016517</td>\n",
       "      <td>0.981165</td>\n",
       "    </tr>\n",
       "    <tr>\n",
       "      <th>4</th>\n",
       "      <td>0.988076</td>\n",
       "      <td>0.980650</td>\n",
       "      <td>0.993628</td>\n",
       "      <td>1.009981</td>\n",
       "      <td>1.018738</td>\n",
       "      <td>0.987126</td>\n",
       "      <td>1.011688</td>\n",
       "      <td>0.964525</td>\n",
       "      <td>1.014987</td>\n",
       "      <td>1.038369</td>\n",
       "      <td>...</td>\n",
       "      <td>1.006892</td>\n",
       "      <td>0.993000</td>\n",
       "      <td>0.994918</td>\n",
       "      <td>0.997143</td>\n",
       "      <td>0.998662</td>\n",
       "      <td>0.995878</td>\n",
       "      <td>1.025841</td>\n",
       "      <td>1.006129</td>\n",
       "      <td>1.018085</td>\n",
       "      <td>0.994028</td>\n",
       "    </tr>\n",
       "    <tr>\n",
       "      <th>...</th>\n",
       "      <td>...</td>\n",
       "      <td>...</td>\n",
       "      <td>...</td>\n",
       "      <td>...</td>\n",
       "      <td>...</td>\n",
       "      <td>...</td>\n",
       "      <td>...</td>\n",
       "      <td>...</td>\n",
       "      <td>...</td>\n",
       "      <td>...</td>\n",
       "      <td>...</td>\n",
       "      <td>...</td>\n",
       "      <td>...</td>\n",
       "      <td>...</td>\n",
       "      <td>...</td>\n",
       "      <td>...</td>\n",
       "      <td>...</td>\n",
       "      <td>...</td>\n",
       "      <td>...</td>\n",
       "      <td>...</td>\n",
       "      <td>...</td>\n",
       "    </tr>\n",
       "    <tr>\n",
       "      <th>7556</th>\n",
       "      <td>104.140009</td>\n",
       "      <td>21.009310</td>\n",
       "      <td>33.067078</td>\n",
       "      <td>54.845896</td>\n",
       "      <td>105.648789</td>\n",
       "      <td>37.396708</td>\n",
       "      <td>36.789180</td>\n",
       "      <td>32.440844</td>\n",
       "      <td>12.488246</td>\n",
       "      <td>10.931052</td>\n",
       "      <td>...</td>\n",
       "      <td>39.651511</td>\n",
       "      <td>74.206652</td>\n",
       "      <td>89.442269</td>\n",
       "      <td>94.602876</td>\n",
       "      <td>64.016888</td>\n",
       "      <td>64.631482</td>\n",
       "      <td>102.555540</td>\n",
       "      <td>29.218532</td>\n",
       "      <td>40.573432</td>\n",
       "      <td>18.794856</td>\n",
       "    </tr>\n",
       "    <tr>\n",
       "      <th>7557</th>\n",
       "      <td>103.461612</td>\n",
       "      <td>21.114935</td>\n",
       "      <td>33.358067</td>\n",
       "      <td>54.141937</td>\n",
       "      <td>107.489172</td>\n",
       "      <td>37.079375</td>\n",
       "      <td>36.776145</td>\n",
       "      <td>32.802184</td>\n",
       "      <td>12.394620</td>\n",
       "      <td>10.781016</td>\n",
       "      <td>...</td>\n",
       "      <td>39.549660</td>\n",
       "      <td>73.989057</td>\n",
       "      <td>90.399300</td>\n",
       "      <td>96.471999</td>\n",
       "      <td>63.532210</td>\n",
       "      <td>66.073646</td>\n",
       "      <td>101.193269</td>\n",
       "      <td>29.249962</td>\n",
       "      <td>40.531918</td>\n",
       "      <td>19.020241</td>\n",
       "    </tr>\n",
       "    <tr>\n",
       "      <th>7558</th>\n",
       "      <td>103.229837</td>\n",
       "      <td>21.326124</td>\n",
       "      <td>33.274016</td>\n",
       "      <td>53.865407</td>\n",
       "      <td>107.389097</td>\n",
       "      <td>36.719783</td>\n",
       "      <td>36.298370</td>\n",
       "      <td>32.820907</td>\n",
       "      <td>12.272728</td>\n",
       "      <td>10.732628</td>\n",
       "      <td>...</td>\n",
       "      <td>39.344487</td>\n",
       "      <td>72.740829</td>\n",
       "      <td>89.755659</td>\n",
       "      <td>96.642813</td>\n",
       "      <td>63.126983</td>\n",
       "      <td>66.098349</td>\n",
       "      <td>101.153196</td>\n",
       "      <td>28.883772</td>\n",
       "      <td>40.767963</td>\n",
       "      <td>19.104739</td>\n",
       "    </tr>\n",
       "    <tr>\n",
       "      <th>7559</th>\n",
       "      <td>103.167784</td>\n",
       "      <td>21.258776</td>\n",
       "      <td>33.683846</td>\n",
       "      <td>54.521780</td>\n",
       "      <td>106.403842</td>\n",
       "      <td>36.913790</td>\n",
       "      <td>36.862992</td>\n",
       "      <td>33.106088</td>\n",
       "      <td>12.448598</td>\n",
       "      <td>10.702351</td>\n",
       "      <td>...</td>\n",
       "      <td>39.247747</td>\n",
       "      <td>73.006728</td>\n",
       "      <td>89.236414</td>\n",
       "      <td>96.693779</td>\n",
       "      <td>64.515892</td>\n",
       "      <td>64.539232</td>\n",
       "      <td>100.252008</td>\n",
       "      <td>28.606735</td>\n",
       "      <td>41.551497</td>\n",
       "      <td>18.977134</td>\n",
       "    </tr>\n",
       "    <tr>\n",
       "      <th>7560</th>\n",
       "      <td>103.068165</td>\n",
       "      <td>21.289851</td>\n",
       "      <td>33.236500</td>\n",
       "      <td>54.479973</td>\n",
       "      <td>106.576400</td>\n",
       "      <td>37.470721</td>\n",
       "      <td>36.416855</td>\n",
       "      <td>32.854038</td>\n",
       "      <td>12.606830</td>\n",
       "      <td>10.699802</td>\n",
       "      <td>...</td>\n",
       "      <td>39.174570</td>\n",
       "      <td>73.987441</td>\n",
       "      <td>88.732234</td>\n",
       "      <td>96.505680</td>\n",
       "      <td>65.309960</td>\n",
       "      <td>65.091358</td>\n",
       "      <td>100.862083</td>\n",
       "      <td>28.751044</td>\n",
       "      <td>41.708485</td>\n",
       "      <td>19.002144</td>\n",
       "    </tr>\n",
       "  </tbody>\n",
       "</table>\n",
       "<p>7561 rows × 500 columns</p>\n",
       "</div>"
      ],
      "text/plain": [
       "             0          1          2          3           4          5    \\\n",
       "0       1.000000   1.000000   1.000000   1.000000    1.000000   1.000000   \n",
       "1       0.998448   1.002732   0.990846   1.011723    1.013867   1.003183   \n",
       "2       0.995796   0.975797   0.999908   1.001301    1.015456   1.001793   \n",
       "3       0.991233   0.968856   0.996126   1.011876    1.015554   0.990172   \n",
       "4       0.988076   0.980650   0.993628   1.009981    1.018738   0.987126   \n",
       "...          ...        ...        ...        ...         ...        ...   \n",
       "7556  104.140009  21.009310  33.067078  54.845896  105.648789  37.396708   \n",
       "7557  103.461612  21.114935  33.358067  54.141937  107.489172  37.079375   \n",
       "7558  103.229837  21.326124  33.274016  53.865407  107.389097  36.719783   \n",
       "7559  103.167784  21.258776  33.683846  54.521780  106.403842  36.913790   \n",
       "7560  103.068165  21.289851  33.236500  54.479973  106.576400  37.470721   \n",
       "\n",
       "            6          7          8          9    ...        490        491  \\\n",
       "0      1.000000   1.000000   1.000000   1.000000  ...   1.000000   1.000000   \n",
       "1      0.998327   0.991061   0.987160   1.001480  ...   0.995916   1.007205   \n",
       "2      1.016308   0.980868   0.986625   0.997637  ...   1.010541   1.009247   \n",
       "3      1.013442   0.968715   1.005932   1.012613  ...   0.999931   1.011654   \n",
       "4      1.011688   0.964525   1.014987   1.038369  ...   1.006892   0.993000   \n",
       "...         ...        ...        ...        ...  ...        ...        ...   \n",
       "7556  36.789180  32.440844  12.488246  10.931052  ...  39.651511  74.206652   \n",
       "7557  36.776145  32.802184  12.394620  10.781016  ...  39.549660  73.989057   \n",
       "7558  36.298370  32.820907  12.272728  10.732628  ...  39.344487  72.740829   \n",
       "7559  36.862992  33.106088  12.448598  10.702351  ...  39.247747  73.006728   \n",
       "7560  36.416855  32.854038  12.606830  10.699802  ...  39.174570  73.987441   \n",
       "\n",
       "            492        493        494        495         496        497  \\\n",
       "0      1.000000   1.000000   1.000000   1.000000    1.000000   1.000000   \n",
       "1      0.991732   0.993080   1.005056   1.007959    1.011900   1.016404   \n",
       "2      0.995650   0.983206   0.988121   1.004444    1.019927   1.010592   \n",
       "3      0.985349   0.985227   0.997215   1.006509    1.026936   0.997941   \n",
       "4      0.994918   0.997143   0.998662   0.995878    1.025841   1.006129   \n",
       "...         ...        ...        ...        ...         ...        ...   \n",
       "7556  89.442269  94.602876  64.016888  64.631482  102.555540  29.218532   \n",
       "7557  90.399300  96.471999  63.532210  66.073646  101.193269  29.249962   \n",
       "7558  89.755659  96.642813  63.126983  66.098349  101.153196  28.883772   \n",
       "7559  89.236414  96.693779  64.515892  64.539232  100.252008  28.606735   \n",
       "7560  88.732234  96.505680  65.309960  65.091358  100.862083  28.751044   \n",
       "\n",
       "            498        499  \n",
       "0      1.000000   1.000000  \n",
       "1      1.016728   0.976052  \n",
       "2      1.016873   0.979768  \n",
       "3      1.016517   0.981165  \n",
       "4      1.018085   0.994028  \n",
       "...         ...        ...  \n",
       "7556  40.573432  18.794856  \n",
       "7557  40.531918  19.020241  \n",
       "7558  40.767963  19.104739  \n",
       "7559  41.551497  18.977134  \n",
       "7560  41.708485  19.002144  \n",
       "\n",
       "[7561 rows x 500 columns]"
      ]
     },
     "execution_count": 31,
     "metadata": {},
     "output_type": "execute_result"
    }
   ],
   "source": [
    "# Run the Monte Carlo simulation to forecast 30 years cumulative returns\n",
    "thirty_years_simulation.calc_cumulative_return()"
   ]
  },
  {
   "cell_type": "code",
   "execution_count": 32,
   "metadata": {},
   "outputs": [
    {
     "data": {
      "text/plain": [
       "<AxesSubplot:title={'center':'500 Simulations of Cumulative Portfolio Return Trajectories Over the Next 7560 Trading Days.'}>"
      ]
     },
     "execution_count": 32,
     "metadata": {},
     "output_type": "execute_result"
    },
    {
     "data": {
      "image/png": "[encoded data removed]",
      "text/plain": [
       "<Figure size 432x288 with 1 Axes>"
      ]
     },
     "metadata": {
      "needs_background": "light"
     },
     "output_type": "display_data"
    }
   ],
   "source": [
    "# Visualize the 30-year Monte Carlo simulation by creating an\n",
    "# overlay line plot\n",
    "thirty_years_simulation.plot_simulation()\n"
   ]
  },
  {
   "cell_type": "markdown",
   "metadata": {},
   "source": [
    "#### Step 3: Plot the probability distribution of the Monte Carlo simulation."
   ]
  },
  {
   "cell_type": "code",
   "execution_count": 33,
   "metadata": {},
   "outputs": [
    {
     "data": {
      "text/plain": [
       "<AxesSubplot:title={'center':'Distribution of Final Cumuluative Returns Across All 500 Simulations'}, ylabel='Frequency'>"
      ]
     },
     "execution_count": 33,
     "metadata": {},
     "output_type": "execute_result"
    },
    {
     "data": {
      "image/png": "[encoded data removed]",
      "text/plain": [
       "<Figure size 432x288 with 1 Axes>"
      ]
     },
     "metadata": {
      "needs_background": "light"
     },
     "output_type": "display_data"
    }
   ],
   "source": [
    "# Visualize the probability distribution of the 30-year Monte Carlo simulation \n",
    "# by plotting a histogram\n",
    "thirty_years_simulation.plot_distribution()"
   ]
  },
  {
   "cell_type": "markdown",
   "metadata": {},
   "source": [
    "#### Step 4: Generate the summary statistics for the Monte Carlo simulation."
   ]
  },
  {
   "cell_type": "code",
   "execution_count": 34,
   "metadata": {},
   "outputs": [
    {
     "data": {
      "text/plain": [
       "count           500.000000\n",
       "mean             61.406530\n",
       "std              50.291842\n",
       "min               5.896693\n",
       "25%              29.451134\n",
       "50%              47.881812\n",
       "75%              74.061883\n",
       "max             383.168938\n",
       "95% CI Lower     11.327643\n",
       "95% CI Upper    212.904037\n",
       "Name: 7560, dtype: float64"
      ]
     },
     "execution_count": 34,
     "metadata": {},
     "output_type": "execute_result"
    }
   ],
   "source": [
    "# Generate summary statistics from the 30-year Monte Carlo simulation results\n",
    "# Save the results as a variable\n",
    "MC_30_years_summary_cumulation = thirty_years_simulation.summarize_cumulative_return()\n",
    "\n",
    "\n",
    "# Review the 30-year Monte Carlo summary statistics\n",
    "MC_30_years_summary_cumulation"
   ]
  },
  {
   "cell_type": "markdown",
   "metadata": {},
   "source": [
    "### Analyze the Retirement Portfolio Forecasts\n",
    "\n",
    "Using the current value of only the stock and bond portion of the member's portfolio and the summary statistics that you generated from the Monte Carlo simulation, answer the following question in your Jupyter notebook:\n",
    "\n",
    "-  What are the lower and upper bounds for the expected value of the portfolio with a 95% confidence interval?\n"
   ]
  },
  {
   "cell_type": "code",
   "execution_count": 35,
   "metadata": {},
   "outputs": [
    {
     "name": "stdout",
     "output_type": "stream",
     "text": [
      "The current balance of the stock and bond portfolio is $165,137.21\n"
     ]
    }
   ],
   "source": [
    "# Print the current balance of the stock and bond portion of the members portfolio\n",
    "\n",
    "print(f\"The current balance of the stock and bond portfolio is ${total_portfolio:,.2f}\")"
   ]
  },
  {
   "cell_type": "code",
   "execution_count": 36,
   "metadata": {},
   "outputs": [
    {
     "name": "stdout",
     "output_type": "stream",
     "text": [
      "There is a 95% chance that an initial investment of stock/bond in the portfolio over the next year will end within in the range of $841,700.54 and $15,819,834.44.\n"
     ]
    }
   ],
   "source": [
    "# Use the lower and upper `95%` confidence intervals to calculate the range of the possible outcomes for the current stock/bond portfolio\n",
    "ci_lower_thirty_cumulative_return = round(MC_30_years_summary_cumulation[8]*total_stocks_bonds,2)\n",
    "ci_upper_thirty_cumulative_return = round(MC_30_years_summary_cumulation[9]*total_stocks_bonds,2)\n",
    "\n",
    "# Print the result of your calculations\n",
    "print(f\"There is a 95% chance that an initial investment of stock/bond in the portfolio\"\n",
    "      f\" over the next year will end within in the range of\"\n",
    "      f\" ${ci_lower_thirty_cumulative_return:,.2f} and ${ci_upper_thirty_cumulative_return:,.2f}.\")\n"
   ]
  },
  {
   "cell_type": "markdown",
   "metadata": {},
   "source": [
    "### Forecast Cumulative Returns in 10 Years\n",
    "\n",
    "The CTO of the credit union is impressed with your work on these planning tools but wonders if 30 years is a long time to wait until retirement. So, your next task is to adjust the retirement portfolio and run a new Monte Carlo simulation to find out if the changes will allow members to retire earlier.\n",
    "\n",
    "For this new Monte Carlo simulation, do the following: \n",
    "\n",
    "- Forecast the cumulative returns for 10 years from now. Because of the shortened investment horizon (30 years to 10 years), the portfolio needs to invest more heavily in the riskier asset&mdash;that is, stock&mdash;to help accumulate wealth for retirement. \n",
    "\n",
    "- Adjust the weights of the retirement portfolio so that the composition for the Monte Carlo simulation consists of 20% bonds and 80% stocks. \n",
    "\n",
    "- Run the simulation over 500 samples, and use the same data that the API call to Alpaca generated.\n",
    "\n",
    "- Based on the new Monte Carlo simulation, answer the following questions in your Jupyter notebook:\n",
    "\n",
    "    - Using the current value of only the stock and bond portion of the member's portfolio and the summary statistics that you generated from the new Monte Carlo simulation, what are the lower and upper bounds for the expected value of the portfolio (with the new weights) with a 95% confidence interval?\n",
    "\n",
    "    - Will weighting the portfolio more heavily toward stocks allow the credit union members to retire after only 10 years?\n"
   ]
  },
  {
   "cell_type": "code",
   "execution_count": 37,
   "metadata": {},
   "outputs": [
    {
     "data": {
      "text/html": [
       "<div>\n",
       "<style scoped>\n",
       "    .dataframe tbody tr th:only-of-type {\n",
       "        vertical-align: middle;\n",
       "    }\n",
       "\n",
       "    .dataframe tbody tr th {\n",
       "        vertical-align: top;\n",
       "    }\n",
       "\n",
       "    .dataframe thead tr th {\n",
       "        text-align: left;\n",
       "    }\n",
       "\n",
       "    .dataframe thead tr:last-of-type th {\n",
       "        text-align: right;\n",
       "    }\n",
       "</style>\n",
       "<table border=\"1\" class=\"dataframe\">\n",
       "  <thead>\n",
       "    <tr>\n",
       "      <th></th>\n",
       "      <th colspan=\"6\" halign=\"left\">AGG</th>\n",
       "      <th colspan=\"6\" halign=\"left\">SPY</th>\n",
       "    </tr>\n",
       "    <tr>\n",
       "      <th></th>\n",
       "      <th>open</th>\n",
       "      <th>high</th>\n",
       "      <th>low</th>\n",
       "      <th>close</th>\n",
       "      <th>volume</th>\n",
       "      <th>daily_return</th>\n",
       "      <th>open</th>\n",
       "      <th>high</th>\n",
       "      <th>low</th>\n",
       "      <th>close</th>\n",
       "      <th>volume</th>\n",
       "      <th>daily_return</th>\n",
       "    </tr>\n",
       "    <tr>\n",
       "      <th>time</th>\n",
       "      <th></th>\n",
       "      <th></th>\n",
       "      <th></th>\n",
       "      <th></th>\n",
       "      <th></th>\n",
       "      <th></th>\n",
       "      <th></th>\n",
       "      <th></th>\n",
       "      <th></th>\n",
       "      <th></th>\n",
       "      <th></th>\n",
       "      <th></th>\n",
       "    </tr>\n",
       "  </thead>\n",
       "  <tbody>\n",
       "    <tr>\n",
       "      <th>2018-11-19 00:00:00-05:00</th>\n",
       "      <td>104.61</td>\n",
       "      <td>104.7299</td>\n",
       "      <td>104.61</td>\n",
       "      <td>104.66</td>\n",
       "      <td>4354256.0</td>\n",
       "      <td>NaN</td>\n",
       "      <td>273.05</td>\n",
       "      <td>273.6176</td>\n",
       "      <td>266.7480</td>\n",
       "      <td>269.08</td>\n",
       "      <td>86509084</td>\n",
       "      <td>NaN</td>\n",
       "    </tr>\n",
       "    <tr>\n",
       "      <th>2018-11-20 00:00:00-05:00</th>\n",
       "      <td>104.67</td>\n",
       "      <td>104.7200</td>\n",
       "      <td>104.61</td>\n",
       "      <td>104.61</td>\n",
       "      <td>3015946.0</td>\n",
       "      <td>-0.000478</td>\n",
       "      <td>265.36</td>\n",
       "      <td>269.1000</td>\n",
       "      <td>263.1500</td>\n",
       "      <td>264.18</td>\n",
       "      <td>121173305</td>\n",
       "      <td>-0.018210</td>\n",
       "    </tr>\n",
       "    <tr>\n",
       "      <th>2018-11-21 00:00:00-05:00</th>\n",
       "      <td>104.60</td>\n",
       "      <td>104.6900</td>\n",
       "      <td>104.58</td>\n",
       "      <td>104.68</td>\n",
       "      <td>5492705.0</td>\n",
       "      <td>0.000669</td>\n",
       "      <td>265.86</td>\n",
       "      <td>267.1500</td>\n",
       "      <td>264.2527</td>\n",
       "      <td>265.08</td>\n",
       "      <td>64743156</td>\n",
       "      <td>0.003407</td>\n",
       "    </tr>\n",
       "    <tr>\n",
       "      <th>2018-11-23 00:00:00-05:00</th>\n",
       "      <td>104.84</td>\n",
       "      <td>104.8400</td>\n",
       "      <td>104.65</td>\n",
       "      <td>104.65</td>\n",
       "      <td>1536835.0</td>\n",
       "      <td>-0.000287</td>\n",
       "      <td>263.18</td>\n",
       "      <td>265.0662</td>\n",
       "      <td>263.0700</td>\n",
       "      <td>263.34</td>\n",
       "      <td>36245484</td>\n",
       "      <td>-0.006564</td>\n",
       "    </tr>\n",
       "    <tr>\n",
       "      <th>2018-11-26 00:00:00-05:00</th>\n",
       "      <td>104.67</td>\n",
       "      <td>104.6700</td>\n",
       "      <td>104.59</td>\n",
       "      <td>104.63</td>\n",
       "      <td>3510989.0</td>\n",
       "      <td>-0.000191</td>\n",
       "      <td>265.78</td>\n",
       "      <td>268.2909</td>\n",
       "      <td>263.3652</td>\n",
       "      <td>267.46</td>\n",
       "      <td>67385154</td>\n",
       "      <td>0.015645</td>\n",
       "    </tr>\n",
       "  </tbody>\n",
       "</table>\n",
       "</div>"
      ],
      "text/plain": [
       "                              AGG                                       \\\n",
       "                             open      high     low   close     volume   \n",
       "time                                                                     \n",
       "2018-11-19 00:00:00-05:00  104.61  104.7299  104.61  104.66  4354256.0   \n",
       "2018-11-20 00:00:00-05:00  104.67  104.7200  104.61  104.61  3015946.0   \n",
       "2018-11-21 00:00:00-05:00  104.60  104.6900  104.58  104.68  5492705.0   \n",
       "2018-11-23 00:00:00-05:00  104.84  104.8400  104.65  104.65  1536835.0   \n",
       "2018-11-26 00:00:00-05:00  104.67  104.6700  104.59  104.63  3510989.0   \n",
       "\n",
       "                                           SPY                              \\\n",
       "                          daily_return    open      high       low   close   \n",
       "time                                                                         \n",
       "2018-11-19 00:00:00-05:00          NaN  273.05  273.6176  266.7480  269.08   \n",
       "2018-11-20 00:00:00-05:00    -0.000478  265.36  269.1000  263.1500  264.18   \n",
       "2018-11-21 00:00:00-05:00     0.000669  265.86  267.1500  264.2527  265.08   \n",
       "2018-11-23 00:00:00-05:00    -0.000287  263.18  265.0662  263.0700  263.34   \n",
       "2018-11-26 00:00:00-05:00    -0.000191  265.78  268.2909  263.3652  267.46   \n",
       "\n",
       "                                                   \n",
       "                              volume daily_return  \n",
       "time                                               \n",
       "2018-11-19 00:00:00-05:00   86509084          NaN  \n",
       "2018-11-20 00:00:00-05:00  121173305    -0.018210  \n",
       "2018-11-21 00:00:00-05:00   64743156     0.003407  \n",
       "2018-11-23 00:00:00-05:00   36245484    -0.006564  \n",
       "2018-11-26 00:00:00-05:00   67385154     0.015645  "
      ]
     },
     "execution_count": 37,
     "metadata": {},
     "output_type": "execute_result"
    }
   ],
   "source": [
    "# Configure a Monte Carlo simulation to forecast 10 years cumulative returns\n",
    "# The weights should be split 20% to AGG and 80% to SPY.\n",
    "# Run 500 samples.\n",
    "ten_years_simulation = MCSimulation(\n",
    "    portfolio_data=ticker_3y,\n",
    "    weights=[0.20, 0.80],\n",
    "    num_simulation=500,\n",
    "    num_trading_days=252*10,\n",
    ")\n",
    "\n",
    "# Review the simulation input data\n",
    "ten_years_simulation.portfolio_data.head()\n"
   ]
  },
  {
   "cell_type": "code",
   "execution_count": 38,
   "metadata": {},
   "outputs": [
    {
     "name": "stdout",
     "output_type": "stream",
     "text": [
      "Running Monte Carlo simulation number 0.\n",
      "Running Monte Carlo simulation number 10.\n",
      "Running Monte Carlo simulation number 20.\n",
      "Running Monte Carlo simulation number 30.\n",
      "Running Monte Carlo simulation number 40.\n",
      "Running Monte Carlo simulation number 50.\n",
      "Running Monte Carlo simulation number 60.\n",
      "Running Monte Carlo simulation number 70.\n",
      "Running Monte Carlo simulation number 80.\n",
      "Running Monte Carlo simulation number 90.\n",
      "Running Monte Carlo simulation number 100.\n",
      "Running Monte Carlo simulation number 110.\n",
      "Running Monte Carlo simulation number 120.\n",
      "Running Monte Carlo simulation number 130.\n",
      "Running Monte Carlo simulation number 140.\n",
      "Running Monte Carlo simulation number 150.\n",
      "Running Monte Carlo simulation number 160.\n",
      "Running Monte Carlo simulation number 170.\n",
      "Running Monte Carlo simulation number 180.\n",
      "Running Monte Carlo simulation number 190.\n",
      "Running Monte Carlo simulation number 200.\n",
      "Running Monte Carlo simulation number 210.\n",
      "Running Monte Carlo simulation number 220.\n",
      "Running Monte Carlo simulation number 230.\n",
      "Running Monte Carlo simulation number 240.\n",
      "Running Monte Carlo simulation number 250.\n",
      "Running Monte Carlo simulation number 260.\n",
      "Running Monte Carlo simulation number 270.\n",
      "Running Monte Carlo simulation number 280.\n",
      "Running Monte Carlo simulation number 290.\n",
      "Running Monte Carlo simulation number 300.\n",
      "Running Monte Carlo simulation number 310.\n",
      "Running Monte Carlo simulation number 320.\n",
      "Running Monte Carlo simulation number 330.\n",
      "Running Monte Carlo simulation number 340.\n",
      "Running Monte Carlo simulation number 350.\n",
      "Running Monte Carlo simulation number 360.\n",
      "Running Monte Carlo simulation number 370.\n",
      "Running Monte Carlo simulation number 380.\n",
      "Running Monte Carlo simulation number 390.\n",
      "Running Monte Carlo simulation number 400.\n",
      "Running Monte Carlo simulation number 410.\n",
      "Running Monte Carlo simulation number 420.\n",
      "Running Monte Carlo simulation number 430.\n",
      "Running Monte Carlo simulation number 440.\n",
      "Running Monte Carlo simulation number 450.\n",
      "Running Monte Carlo simulation number 460.\n",
      "Running Monte Carlo simulation number 470.\n",
      "Running Monte Carlo simulation number 480.\n",
      "Running Monte Carlo simulation number 490.\n"
     ]
    },
    {
     "data": {
      "text/html": [
       "<div>\n",
       "<style scoped>\n",
       "    .dataframe tbody tr th:only-of-type {\n",
       "        vertical-align: middle;\n",
       "    }\n",
       "\n",
       "    .dataframe tbody tr th {\n",
       "        vertical-align: top;\n",
       "    }\n",
       "\n",
       "    .dataframe thead th {\n",
       "        text-align: right;\n",
       "    }\n",
       "</style>\n",
       "<table border=\"1\" class=\"dataframe\">\n",
       "  <thead>\n",
       "    <tr style=\"text-align: right;\">\n",
       "      <th></th>\n",
       "      <th>0</th>\n",
       "      <th>1</th>\n",
       "      <th>2</th>\n",
       "      <th>3</th>\n",
       "      <th>4</th>\n",
       "      <th>5</th>\n",
       "      <th>6</th>\n",
       "      <th>7</th>\n",
       "      <th>8</th>\n",
       "      <th>9</th>\n",
       "      <th>...</th>\n",
       "      <th>490</th>\n",
       "      <th>491</th>\n",
       "      <th>492</th>\n",
       "      <th>493</th>\n",
       "      <th>494</th>\n",
       "      <th>495</th>\n",
       "      <th>496</th>\n",
       "      <th>497</th>\n",
       "      <th>498</th>\n",
       "      <th>499</th>\n",
       "    </tr>\n",
       "  </thead>\n",
       "  <tbody>\n",
       "    <tr>\n",
       "      <th>0</th>\n",
       "      <td>1.000000</td>\n",
       "      <td>1.000000</td>\n",
       "      <td>1.000000</td>\n",
       "      <td>1.000000</td>\n",
       "      <td>1.000000</td>\n",
       "      <td>1.000000</td>\n",
       "      <td>1.000000</td>\n",
       "      <td>1.000000</td>\n",
       "      <td>1.000000</td>\n",
       "      <td>1.000000</td>\n",
       "      <td>...</td>\n",
       "      <td>1.000000</td>\n",
       "      <td>1.000000</td>\n",
       "      <td>1.000000</td>\n",
       "      <td>1.000000</td>\n",
       "      <td>1.000000</td>\n",
       "      <td>1.000000</td>\n",
       "      <td>1.000000</td>\n",
       "      <td>1.000000</td>\n",
       "      <td>1.000000</td>\n",
       "      <td>1.000000</td>\n",
       "    </tr>\n",
       "    <tr>\n",
       "      <th>1</th>\n",
       "      <td>0.987401</td>\n",
       "      <td>0.992946</td>\n",
       "      <td>0.999661</td>\n",
       "      <td>1.015042</td>\n",
       "      <td>1.007097</td>\n",
       "      <td>0.999626</td>\n",
       "      <td>1.001120</td>\n",
       "      <td>1.010174</td>\n",
       "      <td>0.991512</td>\n",
       "      <td>0.981429</td>\n",
       "      <td>...</td>\n",
       "      <td>0.987861</td>\n",
       "      <td>0.993124</td>\n",
       "      <td>1.011666</td>\n",
       "      <td>1.000377</td>\n",
       "      <td>0.993347</td>\n",
       "      <td>1.007953</td>\n",
       "      <td>1.000453</td>\n",
       "      <td>1.000234</td>\n",
       "      <td>1.005347</td>\n",
       "      <td>1.011179</td>\n",
       "    </tr>\n",
       "    <tr>\n",
       "      <th>2</th>\n",
       "      <td>0.991520</td>\n",
       "      <td>0.989239</td>\n",
       "      <td>1.021369</td>\n",
       "      <td>1.020018</td>\n",
       "      <td>1.010462</td>\n",
       "      <td>0.995323</td>\n",
       "      <td>0.995981</td>\n",
       "      <td>1.024240</td>\n",
       "      <td>1.003075</td>\n",
       "      <td>0.974262</td>\n",
       "      <td>...</td>\n",
       "      <td>0.977289</td>\n",
       "      <td>0.986001</td>\n",
       "      <td>1.019613</td>\n",
       "      <td>1.005818</td>\n",
       "      <td>0.987979</td>\n",
       "      <td>1.009364</td>\n",
       "      <td>0.990783</td>\n",
       "      <td>0.991208</td>\n",
       "      <td>0.995053</td>\n",
       "      <td>1.016718</td>\n",
       "    </tr>\n",
       "    <tr>\n",
       "      <th>3</th>\n",
       "      <td>0.993800</td>\n",
       "      <td>0.971757</td>\n",
       "      <td>1.024284</td>\n",
       "      <td>1.031487</td>\n",
       "      <td>1.022369</td>\n",
       "      <td>0.986164</td>\n",
       "      <td>1.005817</td>\n",
       "      <td>1.053848</td>\n",
       "      <td>1.012978</td>\n",
       "      <td>0.988381</td>\n",
       "      <td>...</td>\n",
       "      <td>0.975895</td>\n",
       "      <td>0.979804</td>\n",
       "      <td>1.019007</td>\n",
       "      <td>1.016165</td>\n",
       "      <td>1.005407</td>\n",
       "      <td>1.012205</td>\n",
       "      <td>0.993447</td>\n",
       "      <td>0.990669</td>\n",
       "      <td>0.992865</td>\n",
       "      <td>1.016726</td>\n",
       "    </tr>\n",
       "    <tr>\n",
       "      <th>4</th>\n",
       "      <td>0.997189</td>\n",
       "      <td>0.952675</td>\n",
       "      <td>1.018858</td>\n",
       "      <td>1.016141</td>\n",
       "      <td>1.039493</td>\n",
       "      <td>0.975482</td>\n",
       "      <td>0.994083</td>\n",
       "      <td>1.054374</td>\n",
       "      <td>1.007834</td>\n",
       "      <td>1.006962</td>\n",
       "      <td>...</td>\n",
       "      <td>0.954514</td>\n",
       "      <td>0.975189</td>\n",
       "      <td>1.031117</td>\n",
       "      <td>1.011276</td>\n",
       "      <td>0.998280</td>\n",
       "      <td>1.002838</td>\n",
       "      <td>0.994423</td>\n",
       "      <td>0.996780</td>\n",
       "      <td>1.002895</td>\n",
       "      <td>1.015724</td>\n",
       "    </tr>\n",
       "    <tr>\n",
       "      <th>...</th>\n",
       "      <td>...</td>\n",
       "      <td>...</td>\n",
       "      <td>...</td>\n",
       "      <td>...</td>\n",
       "      <td>...</td>\n",
       "      <td>...</td>\n",
       "      <td>...</td>\n",
       "      <td>...</td>\n",
       "      <td>...</td>\n",
       "      <td>...</td>\n",
       "      <td>...</td>\n",
       "      <td>...</td>\n",
       "      <td>...</td>\n",
       "      <td>...</td>\n",
       "      <td>...</td>\n",
       "      <td>...</td>\n",
       "      <td>...</td>\n",
       "      <td>...</td>\n",
       "      <td>...</td>\n",
       "      <td>...</td>\n",
       "      <td>...</td>\n",
       "    </tr>\n",
       "    <tr>\n",
       "      <th>2516</th>\n",
       "      <td>4.362896</td>\n",
       "      <td>1.730161</td>\n",
       "      <td>8.570486</td>\n",
       "      <td>7.688496</td>\n",
       "      <td>3.301112</td>\n",
       "      <td>1.935924</td>\n",
       "      <td>3.757067</td>\n",
       "      <td>8.238936</td>\n",
       "      <td>5.778814</td>\n",
       "      <td>4.605852</td>\n",
       "      <td>...</td>\n",
       "      <td>1.522219</td>\n",
       "      <td>6.027492</td>\n",
       "      <td>11.600516</td>\n",
       "      <td>4.993399</td>\n",
       "      <td>3.473315</td>\n",
       "      <td>3.603436</td>\n",
       "      <td>2.225734</td>\n",
       "      <td>5.771135</td>\n",
       "      <td>1.562778</td>\n",
       "      <td>1.259650</td>\n",
       "    </tr>\n",
       "    <tr>\n",
       "      <th>2517</th>\n",
       "      <td>4.284851</td>\n",
       "      <td>1.696743</td>\n",
       "      <td>8.512908</td>\n",
       "      <td>7.677524</td>\n",
       "      <td>3.360466</td>\n",
       "      <td>1.932450</td>\n",
       "      <td>3.732485</td>\n",
       "      <td>8.259662</td>\n",
       "      <td>5.829475</td>\n",
       "      <td>4.647138</td>\n",
       "      <td>...</td>\n",
       "      <td>1.505846</td>\n",
       "      <td>6.048089</td>\n",
       "      <td>11.633408</td>\n",
       "      <td>4.989001</td>\n",
       "      <td>3.460687</td>\n",
       "      <td>3.642384</td>\n",
       "      <td>2.248499</td>\n",
       "      <td>5.857981</td>\n",
       "      <td>1.570459</td>\n",
       "      <td>1.254400</td>\n",
       "    </tr>\n",
       "    <tr>\n",
       "      <th>2518</th>\n",
       "      <td>4.258989</td>\n",
       "      <td>1.718004</td>\n",
       "      <td>8.411984</td>\n",
       "      <td>7.668852</td>\n",
       "      <td>3.284145</td>\n",
       "      <td>1.939448</td>\n",
       "      <td>3.712263</td>\n",
       "      <td>8.242370</td>\n",
       "      <td>5.867055</td>\n",
       "      <td>4.639326</td>\n",
       "      <td>...</td>\n",
       "      <td>1.518814</td>\n",
       "      <td>6.156318</td>\n",
       "      <td>11.565638</td>\n",
       "      <td>4.918538</td>\n",
       "      <td>3.435616</td>\n",
       "      <td>3.610499</td>\n",
       "      <td>2.234391</td>\n",
       "      <td>5.934066</td>\n",
       "      <td>1.553591</td>\n",
       "      <td>1.235054</td>\n",
       "    </tr>\n",
       "    <tr>\n",
       "      <th>2519</th>\n",
       "      <td>4.255767</td>\n",
       "      <td>1.736189</td>\n",
       "      <td>8.618475</td>\n",
       "      <td>7.639028</td>\n",
       "      <td>3.259317</td>\n",
       "      <td>1.891214</td>\n",
       "      <td>3.667298</td>\n",
       "      <td>8.181538</td>\n",
       "      <td>5.665973</td>\n",
       "      <td>4.630006</td>\n",
       "      <td>...</td>\n",
       "      <td>1.533087</td>\n",
       "      <td>6.086840</td>\n",
       "      <td>11.693844</td>\n",
       "      <td>4.946635</td>\n",
       "      <td>3.377765</td>\n",
       "      <td>3.599487</td>\n",
       "      <td>2.214622</td>\n",
       "      <td>6.000045</td>\n",
       "      <td>1.553416</td>\n",
       "      <td>1.229122</td>\n",
       "    </tr>\n",
       "    <tr>\n",
       "      <th>2520</th>\n",
       "      <td>4.234809</td>\n",
       "      <td>1.760470</td>\n",
       "      <td>8.784503</td>\n",
       "      <td>7.601000</td>\n",
       "      <td>3.249390</td>\n",
       "      <td>1.896876</td>\n",
       "      <td>3.669304</td>\n",
       "      <td>8.218879</td>\n",
       "      <td>5.713116</td>\n",
       "      <td>4.717346</td>\n",
       "      <td>...</td>\n",
       "      <td>1.528933</td>\n",
       "      <td>6.076484</td>\n",
       "      <td>11.753630</td>\n",
       "      <td>4.925212</td>\n",
       "      <td>3.315935</td>\n",
       "      <td>3.649061</td>\n",
       "      <td>2.209951</td>\n",
       "      <td>5.944981</td>\n",
       "      <td>1.563122</td>\n",
       "      <td>1.241879</td>\n",
       "    </tr>\n",
       "  </tbody>\n",
       "</table>\n",
       "<p>2521 rows × 500 columns</p>\n",
       "</div>"
      ],
      "text/plain": [
       "           0         1         2         3         4         5         6    \\\n",
       "0     1.000000  1.000000  1.000000  1.000000  1.000000  1.000000  1.000000   \n",
       "1     0.987401  0.992946  0.999661  1.015042  1.007097  0.999626  1.001120   \n",
       "2     0.991520  0.989239  1.021369  1.020018  1.010462  0.995323  0.995981   \n",
       "3     0.993800  0.971757  1.024284  1.031487  1.022369  0.986164  1.005817   \n",
       "4     0.997189  0.952675  1.018858  1.016141  1.039493  0.975482  0.994083   \n",
       "...        ...       ...       ...       ...       ...       ...       ...   \n",
       "2516  4.362896  1.730161  8.570486  7.688496  3.301112  1.935924  3.757067   \n",
       "2517  4.284851  1.696743  8.512908  7.677524  3.360466  1.932450  3.732485   \n",
       "2518  4.258989  1.718004  8.411984  7.668852  3.284145  1.939448  3.712263   \n",
       "2519  4.255767  1.736189  8.618475  7.639028  3.259317  1.891214  3.667298   \n",
       "2520  4.234809  1.760470  8.784503  7.601000  3.249390  1.896876  3.669304   \n",
       "\n",
       "           7         8         9    ...       490       491        492  \\\n",
       "0     1.000000  1.000000  1.000000  ...  1.000000  1.000000   1.000000   \n",
       "1     1.010174  0.991512  0.981429  ...  0.987861  0.993124   1.011666   \n",
       "2     1.024240  1.003075  0.974262  ...  0.977289  0.986001   1.019613   \n",
       "3     1.053848  1.012978  0.988381  ...  0.975895  0.979804   1.019007   \n",
       "4     1.054374  1.007834  1.006962  ...  0.954514  0.975189   1.031117   \n",
       "...        ...       ...       ...  ...       ...       ...        ...   \n",
       "2516  8.238936  5.778814  4.605852  ...  1.522219  6.027492  11.600516   \n",
       "2517  8.259662  5.829475  4.647138  ...  1.505846  6.048089  11.633408   \n",
       "2518  8.242370  5.867055  4.639326  ...  1.518814  6.156318  11.565638   \n",
       "2519  8.181538  5.665973  4.630006  ...  1.533087  6.086840  11.693844   \n",
       "2520  8.218879  5.713116  4.717346  ...  1.528933  6.076484  11.753630   \n",
       "\n",
       "           493       494       495       496       497       498       499  \n",
       "0     1.000000  1.000000  1.000000  1.000000  1.000000  1.000000  1.000000  \n",
       "1     1.000377  0.993347  1.007953  1.000453  1.000234  1.005347  1.011179  \n",
       "2     1.005818  0.987979  1.009364  0.990783  0.991208  0.995053  1.016718  \n",
       "3     1.016165  1.005407  1.012205  0.993447  0.990669  0.992865  1.016726  \n",
       "4     1.011276  0.998280  1.002838  0.994423  0.996780  1.002895  1.015724  \n",
       "...        ...       ...       ...       ...       ...       ...       ...  \n",
       "2516  4.993399  3.473315  3.603436  2.225734  5.771135  1.562778  1.259650  \n",
       "2517  4.989001  3.460687  3.642384  2.248499  5.857981  1.570459  1.254400  \n",
       "2518  4.918538  3.435616  3.610499  2.234391  5.934066  1.553591  1.235054  \n",
       "2519  4.946635  3.377765  3.599487  2.214622  6.000045  1.553416  1.229122  \n",
       "2520  4.925212  3.315935  3.649061  2.209951  5.944981  1.563122  1.241879  \n",
       "\n",
       "[2521 rows x 500 columns]"
      ]
     },
     "execution_count": 38,
     "metadata": {},
     "output_type": "execute_result"
    }
   ],
   "source": [
    "# Run the Monte Carlo simulation to forecast 10 years cumulative returns\n",
    "ten_years_simulation.calc_cumulative_return()"
   ]
  },
  {
   "cell_type": "code",
   "execution_count": 39,
   "metadata": {},
   "outputs": [
    {
     "data": {
      "text/plain": [
       "<AxesSubplot:title={'center':'500 Simulations of Cumulative Portfolio Return Trajectories Over the Next 2520 Trading Days.'}>"
      ]
     },
     "execution_count": 39,
     "metadata": {},
     "output_type": "execute_result"
    },
    {
     "data": {
      "image/png": "[encoded data removed]",
      "text/plain": [
       "<Figure size 432x288 with 1 Axes>"
      ]
     },
     "metadata": {
      "needs_background": "light"
     },
     "output_type": "display_data"
    }
   ],
   "source": [
    "# Visualize the 10-year Monte Carlo simulation by creating an\n",
    "# overlay line plot\n",
    "ten_years_simulation.plot_simulation()"
   ]
  },
  {
   "cell_type": "code",
   "execution_count": 40,
   "metadata": {},
   "outputs": [
    {
     "data": {
      "text/plain": [
       "<AxesSubplot:title={'center':'Distribution of Final Cumuluative Returns Across All 500 Simulations'}, ylabel='Frequency'>"
      ]
     },
     "execution_count": 40,
     "metadata": {},
     "output_type": "execute_result"
    },
    {
     "data": {
      "image/png": "[encoded data removed]",
      "text/plain": [
       "<Figure size 432x288 with 1 Axes>"
      ]
     },
     "metadata": {
      "needs_background": "light"
     },
     "output_type": "display_data"
    }
   ],
   "source": [
    "# Visualize the probability distribution of the 10-year Monte Carlo simulation \n",
    "# by plotting a histogram\n",
    "ten_years_simulation.plot_distribution()"
   ]
  },
  {
   "cell_type": "code",
   "execution_count": 41,
   "metadata": {},
   "outputs": [
    {
     "data": {
      "text/plain": [
       "count           500.000000\n",
       "mean              5.746405\n",
       "std               3.480897\n",
       "min               0.800120\n",
       "25%               3.267916\n",
       "50%               4.955542\n",
       "75%               7.368054\n",
       "max              24.295063\n",
       "95% CI Lower      1.477585\n",
       "95% CI Upper     14.943723\n",
       "Name: 2520, dtype: float64"
      ]
     },
     "execution_count": 41,
     "metadata": {},
     "output_type": "execute_result"
    }
   ],
   "source": [
    "# Generate summary statistics from the 10-year Monte Carlo simulation results\n",
    "# Save the results as a variable\n",
    "MC_10_years_summary_cumulation = ten_years_simulation.summarize_cumulative_return()\n",
    "\n",
    "\n",
    "# Review the 10-year Monte Carlo summary statistics\n",
    "MC_10_years_summary_cumulation"
   ]
  },
  {
   "cell_type": "markdown",
   "metadata": {},
   "source": [
    "### Answer the following questions:"
   ]
  },
  {
   "cell_type": "markdown",
   "metadata": {},
   "source": [
    "#### Question: Using the current value of only the stock and bond portion of the member's portfolio and the summary statistics that you generated from the new Monte Carlo simulation, what are the lower and upper bounds for the expected value of the portfolio (with the new weights) with a 95% confidence interval?"
   ]
  },
  {
   "cell_type": "code",
   "execution_count": 42,
   "metadata": {},
   "outputs": [
    {
     "name": "stdout",
     "output_type": "stream",
     "text": [
      "The current balance of the stock and bond portfolio is $165,137.21\n"
     ]
    }
   ],
   "source": [
    "# Print the current balance of the stock and bond portion of the members portfolio\n",
    "print(f\"The current balance of the stock and bond portfolio is ${total_portfolio:,.2f}\")"
   ]
  },
  {
   "cell_type": "code",
   "execution_count": 43,
   "metadata": {},
   "outputs": [
    {
     "name": "stdout",
     "output_type": "stream",
     "text": [
      "There is a 95% chance that an initial investment of stock/bond in the portfolio over the next year will end within in the range of $109,791.95 and $1,110,393.30.\n"
     ]
    }
   ],
   "source": [
    "# Use the lower and upper `95%` confidence intervals to calculate the range of the possible outcomes for the current stock/bond portfolio\n",
    "ci_lower_ten_cumulative_return = round(MC_10_years_summary_cumulation[8]*total_stocks_bonds,2)\n",
    "ci_upper_ten_cumulative_return =  round(MC_10_years_summary_cumulation[9]*total_stocks_bonds,2)\n",
    "\n",
    "# Print the result of your calculations\n",
    "print(f\"There is a 95% chance that an initial investment of stock/bond in the portfolio\"\n",
    "      f\" over the next year will end within in the range of\"\n",
    "      f\" ${ci_lower_ten_cumulative_return:,.2f} and ${ci_upper_ten_cumulative_return:,.2f}.\")\n"
   ]
  },
  {
   "cell_type": "markdown",
   "metadata": {},
   "source": [
    "#### Question: Will weighting the portfolio more heavily to stocks allow the credit union members to retire after only 10 years?"
   ]
  },
  {
   "cell_type": "raw",
   "metadata": {},
   "source": [
    "**Answer** # yes since they will over 1 millions dollars after 10 years, however starting early and saving for 30 years will give them over 10 millions dollars to retire."
   ]
  },
  {
   "cell_type": "code",
   "execution_count": null,
   "metadata": {},
   "outputs": [],
   "source": []
  },
  {
   "cell_type": "code",
   "execution_count": null,
   "metadata": {},
   "outputs": [],
   "source": []
  }
 ],
 "metadata": {
  "kernelspec": {
   "display_name": "Python 3",
   "language": "python",
   "name": "python3"
  },
  "language_info": {
   "codemirror_mode": {
    "name": "ipython",
    "version": 3
   },
   "file_extension": ".py",
   "mimetype": "text/x-python",
   "name": "python",
   "nbconvert_exporter": "python",
   "pygments_lexer": "ipython3",
   "version": "3.7.10"
  }
 },
 "nbformat": 4,
 "nbformat_minor": 4
}
